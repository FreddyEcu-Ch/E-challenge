{
  "nbformat": 4,
  "nbformat_minor": 5,
  "metadata": {
    "kernelspec": {
      "display_name": "saturn (Python 3)",
      "language": "python",
      "name": "python3"
    },
    "language_info": {
      "codemirror_mode": {
        "name": "ipython",
        "version": 3
      },
      "file_extension": ".py",
      "mimetype": "text/x-python",
      "name": "python",
      "nbconvert_exporter": "python",
      "pygments_lexer": "ipython3",
      "version": "3.7.10"
    },
    "colab": {
      "name": "echallenge_starter_nb.ipynb",
      "provenance": []
    }
  },
  "cells": [
    {
      "cell_type": "code",
      "metadata": {
        "execution": {
          "iopub.execute_input": "2021-08-23T19:06:15.640024Z",
          "iopub.status.busy": "2021-08-23T19:06:15.639671Z",
          "iopub.status.idle": "2021-08-23T19:06:25.456147Z",
          "shell.execute_reply": "2021-08-23T19:06:25.455597Z",
          "shell.execute_reply.started": "2021-08-23T19:06:15.639952Z"
        },
        "id": "b9ffa5ee"
      },
      "source": [
        "import numpy as np\n",
        "import pandas as pd\n",
        "import matplotlib.pyplot as plt\n",
        "plt.rcParams['agg.path.chunksize'] = 10000\n",
        "%matplotlib inline\n",
        "!pip install seaborn\n",
        "!pip install interpret\n",
        "\n",
        "import seaborn as sns\n",
        "import plotly.express as px\n",
        "import random\n",
        "import datetime as dt\n",
        "import random\n",
        "import os\n",
        "import glob\n",
        "import random\n",
        "import zipfile\n",
        "\n",
        "from IPython.display import clear_output\n",
        "\n",
        "import warnings\n",
        "warnings.filterwarnings('ignore')\n",
        "clear_output()"
      ],
      "id": "b9ffa5ee",
      "execution_count": 1,
      "outputs": []
    },
    {
      "cell_type": "markdown",
      "metadata": {
        "id": "837e5f7c"
      },
      "source": [
        "# Load Data"
      ],
      "id": "837e5f7c"
    },
    {
      "cell_type": "code",
      "metadata": {
        "execution": {
          "iopub.execute_input": "2021-08-23T19:44:57.566565Z",
          "iopub.status.busy": "2021-08-23T19:44:57.566255Z",
          "iopub.status.idle": "2021-08-23T19:44:57.569674Z",
          "shell.execute_reply": "2021-08-23T19:44:57.568864Z",
          "shell.execute_reply.started": "2021-08-23T19:44:57.566541Z"
        },
        "id": "35ba5516"
      },
      "source": [
        "# Set File Paths\n",
        "PATH_01 = '//content/Train'\n",
        "PATH_02 = '/content/Test'"
      ],
      "id": "35ba5516",
      "execution_count": 2,
      "outputs": []
    },
    {
      "cell_type": "code",
      "metadata": {
        "execution": {
          "iopub.execute_input": "2021-08-23T19:44:59.414783Z",
          "iopub.status.busy": "2021-08-23T19:44:59.414329Z",
          "iopub.status.idle": "2021-08-23T19:44:59.419157Z",
          "shell.execute_reply": "2021-08-23T19:44:59.418549Z",
          "shell.execute_reply.started": "2021-08-23T19:44:59.414755Z"
        },
        "id": "a848fb1b"
      },
      "source": [
        "train_dirs = glob.glob(PATH_01+ '/*.csv')\n",
        "train_dirs.sort()\n",
        "test_dirs = glob.glob(PATH_02+ '/*.csv')\n",
        "test_dirs.sort()"
      ],
      "id": "a848fb1b",
      "execution_count": 3,
      "outputs": []
    },
    {
      "cell_type": "code",
      "metadata": {
        "execution": {
          "iopub.execute_input": "2021-08-23T18:25:23.088118Z",
          "iopub.status.busy": "2021-08-23T18:25:23.087889Z",
          "iopub.status.idle": "2021-08-23T18:25:23.094693Z",
          "shell.execute_reply": "2021-08-23T18:25:23.094114Z",
          "shell.execute_reply.started": "2021-08-23T18:25:23.088098Z"
        },
        "colab": {
          "base_uri": "https://localhost:8080/"
        },
        "id": "a3ca59e0",
        "outputId": "1f10a6d8-665c-4e84-a689-934c3630d4bf"
      },
      "source": [
        "train_dirs"
      ],
      "id": "a3ca59e0",
      "execution_count": 4,
      "outputs": [
        {
          "output_type": "execute_result",
          "data": {
            "text/plain": [
              "['//content/Train/2020_01_JAN.csv',\n",
              " '//content/Train/2020_02_FEB.csv',\n",
              " '//content/Train/2020_03_MAR.csv',\n",
              " '//content/Train/2020_04_APR.csv',\n",
              " '//content/Train/2020_05_MAY.csv',\n",
              " '//content/Train/2020_06_JUN.csv',\n",
              " '//content/Train/2020_07_JUL.csv',\n",
              " '//content/Train/2020_08_AUG.csv',\n",
              " '//content/Train/2020_09_SEP.csv',\n",
              " '//content/Train/2020_10_OCT.csv',\n",
              " '//content/Train/2020_11_NOV.csv',\n",
              " '//content/Train/2020_12_DEC.csv',\n",
              " '//content/Train/2021_01_JAN.csv',\n",
              " '//content/Train/2021_02_FEB.csv',\n",
              " '//content/Train/2021_03_MAR.csv',\n",
              " '//content/Train/2021_04_APR.csv',\n",
              " '//content/Train/2021_05_MAY.csv',\n",
              " '//content/Train/high_freq_2019.csv',\n",
              " '//content/Train/production_train.csv']"
            ]
          },
          "metadata": {},
          "execution_count": 4
        }
      ]
    },
    {
      "cell_type": "code",
      "metadata": {
        "execution": {
          "iopub.execute_input": "2021-08-23T18:25:25.514817Z",
          "iopub.status.busy": "2021-08-23T18:25:25.514515Z",
          "iopub.status.idle": "2021-08-23T18:25:25.519002Z",
          "shell.execute_reply": "2021-08-23T18:25:25.518389Z",
          "shell.execute_reply.started": "2021-08-23T18:25:25.514792Z"
        },
        "colab": {
          "base_uri": "https://localhost:8080/"
        },
        "id": "d05a0e1d",
        "outputId": "01187c2d-6833-4824-bf2e-e3448640b6ff"
      },
      "source": [
        "test_dirs"
      ],
      "id": "d05a0e1d",
      "execution_count": 5,
      "outputs": [
        {
          "output_type": "execute_result",
          "data": {
            "text/plain": [
              "['/content/Test/2020_01_JAN.csv',\n",
              " '/content/Test/2020_02_FEB.csv',\n",
              " '/content/Test/2020_03_MAR.csv',\n",
              " '/content/Test/2020_04_APR.csv',\n",
              " '/content/Test/2020_05_MAY.csv',\n",
              " '/content/Test/2020_06_JUN.csv',\n",
              " '/content/Test/2020_07_JUL.csv',\n",
              " '/content/Test/2020_08_AUG.csv',\n",
              " '/content/Test/2020_09_SEP.csv',\n",
              " '/content/Test/2020_10_OCT.csv',\n",
              " '/content/Test/2020_11_NOV.csv',\n",
              " '/content/Test/2020_12_DEC.csv',\n",
              " '/content/Test/2021_01_JAN.csv',\n",
              " '/content/Test/2021_02_FEB.csv',\n",
              " '/content/Test/2021_03_MAR.csv',\n",
              " '/content/Test/2021_04_APR.csv',\n",
              " '/content/Test/2021_05_MAY.csv',\n",
              " '/content/Test/high_freq_2019.csv',\n",
              " '/content/Test/production_test.csv']"
            ]
          },
          "metadata": {},
          "execution_count": 5
        }
      ]
    },
    {
      "cell_type": "markdown",
      "metadata": {
        "id": "76843f8c"
      },
      "source": [
        "# Merge Files"
      ],
      "id": "76843f8c"
    },
    {
      "cell_type": "code",
      "metadata": {
        "execution": {
          "iopub.execute_input": "2021-08-23T19:45:03.509233Z",
          "iopub.status.busy": "2021-08-23T19:45:03.508883Z",
          "iopub.status.idle": "2021-08-23T19:45:03.513942Z",
          "shell.execute_reply": "2021-08-23T19:45:03.513327Z",
          "shell.execute_reply.started": "2021-08-23T19:45:03.509205Z"
        },
        "id": "9bfb324b"
      },
      "source": [
        "# Merge Frequency Files\n",
        "def concat_data(files):\n",
        "    \n",
        "    dataframes = []\n",
        "    for i in range(len(files)):\n",
        "        locals()['df'+f'{i}'] = pd.read_csv(files[i],parse_dates=[1])\n",
        "        dataframes.append(locals()['df'+f'{i}'])\n",
        "    return pd.concat(dataframes,axis=0).reset_index().drop('index',axis=1)"
      ],
      "id": "9bfb324b",
      "execution_count": 6,
      "outputs": []
    },
    {
      "cell_type": "code",
      "metadata": {
        "execution": {
          "iopub.execute_input": "2021-08-23T19:45:05.605358Z",
          "iopub.status.busy": "2021-08-23T19:45:05.605053Z",
          "iopub.status.idle": "2021-08-23T19:45:20.473084Z",
          "shell.execute_reply": "2021-08-23T19:45:20.472409Z",
          "shell.execute_reply.started": "2021-08-23T19:45:05.605332Z"
        },
        "id": "37b558ba"
      },
      "source": [
        "# Concat High Frequency Data\n",
        "train = concat_data(train_dirs[:-1])\n",
        "test = concat_data(test_dirs[:-1])"
      ],
      "id": "37b558ba",
      "execution_count": 7,
      "outputs": []
    },
    {
      "cell_type": "code",
      "metadata": {
        "execution": {
          "iopub.execute_input": "2021-08-23T18:25:45.771158Z",
          "iopub.status.busy": "2021-08-23T18:25:45.770796Z",
          "iopub.status.idle": "2021-08-23T18:25:45.775386Z",
          "shell.execute_reply": "2021-08-23T18:25:45.774847Z",
          "shell.execute_reply.started": "2021-08-23T18:25:45.771128Z"
        },
        "id": "e73296ba"
      },
      "source": [
        "def perimeter(df):\n",
        "    values = {'Features:':  df.shape[1], 'Observations:':  '{0:,}'.format(df.shape[0]),\n",
        "              '%_NaN:': np.round(100* df.isna().sum().sum()/( df.shape[0]* df.shape[1]),1)}\n",
        "\n",
        "    return pd.DataFrame.from_dict(values, orient='index',columns=['Total'])"
      ],
      "id": "e73296ba",
      "execution_count": 8,
      "outputs": []
    },
    {
      "cell_type": "code",
      "metadata": {
        "execution": {
          "iopub.execute_input": "2021-08-23T18:25:46.480187Z",
          "iopub.status.busy": "2021-08-23T18:25:46.479878Z",
          "iopub.status.idle": "2021-08-23T18:25:47.151962Z",
          "shell.execute_reply": "2021-08-23T18:25:47.151268Z",
          "shell.execute_reply.started": "2021-08-23T18:25:46.480161Z"
        },
        "colab": {
          "base_uri": "https://localhost:8080/",
          "height": 143
        },
        "id": "e2f3ff0f",
        "outputId": "bca3a7e7-367e-4235-8c26-4db6469712c5"
      },
      "source": [
        "perimeter(train)"
      ],
      "id": "e2f3ff0f",
      "execution_count": 9,
      "outputs": [
        {
          "output_type": "execute_result",
          "data": {
            "text/html": [
              "<div>\n",
              "<style scoped>\n",
              "    .dataframe tbody tr th:only-of-type {\n",
              "        vertical-align: middle;\n",
              "    }\n",
              "\n",
              "    .dataframe tbody tr th {\n",
              "        vertical-align: top;\n",
              "    }\n",
              "\n",
              "    .dataframe thead th {\n",
              "        text-align: right;\n",
              "    }\n",
              "</style>\n",
              "<table border=\"1\" class=\"dataframe\">\n",
              "  <thead>\n",
              "    <tr style=\"text-align: right;\">\n",
              "      <th></th>\n",
              "      <th>Total</th>\n",
              "    </tr>\n",
              "  </thead>\n",
              "  <tbody>\n",
              "    <tr>\n",
              "      <th>Features:</th>\n",
              "      <td>13</td>\n",
              "    </tr>\n",
              "    <tr>\n",
              "      <th>Observations:</th>\n",
              "      <td>8,435,165</td>\n",
              "    </tr>\n",
              "    <tr>\n",
              "      <th>%_NaN:</th>\n",
              "      <td>33.1</td>\n",
              "    </tr>\n",
              "  </tbody>\n",
              "</table>\n",
              "</div>"
            ],
            "text/plain": [
              "                   Total\n",
              "Features:             13\n",
              "Observations:  8,435,165\n",
              "%_NaN:              33.1"
            ]
          },
          "metadata": {},
          "execution_count": 9
        }
      ]
    },
    {
      "cell_type": "code",
      "metadata": {
        "execution": {
          "iopub.execute_input": "2021-08-23T18:25:50.498764Z",
          "iopub.status.busy": "2021-08-23T18:25:50.498453Z",
          "iopub.status.idle": "2021-08-23T18:25:50.572870Z",
          "shell.execute_reply": "2021-08-23T18:25:50.572300Z",
          "shell.execute_reply.started": "2021-08-23T18:25:50.498739Z"
        },
        "colab": {
          "base_uri": "https://localhost:8080/",
          "height": 143
        },
        "id": "6524f2f9",
        "outputId": "cace83f2-0fc6-4063-e597-74ede587d6a5"
      },
      "source": [
        "perimeter(test)"
      ],
      "id": "6524f2f9",
      "execution_count": 10,
      "outputs": [
        {
          "output_type": "execute_result",
          "data": {
            "text/html": [
              "<div>\n",
              "<style scoped>\n",
              "    .dataframe tbody tr th:only-of-type {\n",
              "        vertical-align: middle;\n",
              "    }\n",
              "\n",
              "    .dataframe tbody tr th {\n",
              "        vertical-align: top;\n",
              "    }\n",
              "\n",
              "    .dataframe thead th {\n",
              "        text-align: right;\n",
              "    }\n",
              "</style>\n",
              "<table border=\"1\" class=\"dataframe\">\n",
              "  <thead>\n",
              "    <tr style=\"text-align: right;\">\n",
              "      <th></th>\n",
              "      <th>Total</th>\n",
              "    </tr>\n",
              "  </thead>\n",
              "  <tbody>\n",
              "    <tr>\n",
              "      <th>Features:</th>\n",
              "      <td>13</td>\n",
              "    </tr>\n",
              "    <tr>\n",
              "      <th>Observations:</th>\n",
              "      <td>1,143,020</td>\n",
              "    </tr>\n",
              "    <tr>\n",
              "      <th>%_NaN:</th>\n",
              "      <td>34.4</td>\n",
              "    </tr>\n",
              "  </tbody>\n",
              "</table>\n",
              "</div>"
            ],
            "text/plain": [
              "                   Total\n",
              "Features:             13\n",
              "Observations:  1,143,020\n",
              "%_NaN:              34.4"
            ]
          },
          "metadata": {},
          "execution_count": 10
        }
      ]
    },
    {
      "cell_type": "code",
      "metadata": {
        "execution": {
          "iopub.execute_input": "2021-08-23T18:25:54.062399Z",
          "iopub.status.busy": "2021-08-23T18:25:54.062104Z",
          "iopub.status.idle": "2021-08-23T18:25:54.354949Z",
          "shell.execute_reply": "2021-08-23T18:25:54.354329Z",
          "shell.execute_reply.started": "2021-08-23T18:25:54.062372Z"
        },
        "colab": {
          "base_uri": "https://localhost:8080/",
          "height": 313
        },
        "id": "6b0c1065",
        "outputId": "eb658455-909c-4770-b115-ad6b970c30fe"
      },
      "source": [
        "train.sample(5)"
      ],
      "id": "6b0c1065",
      "execution_count": 11,
      "outputs": [
        {
          "output_type": "execute_result",
          "data": {
            "text/html": [
              "<div>\n",
              "<style scoped>\n",
              "    .dataframe tbody tr th:only-of-type {\n",
              "        vertical-align: middle;\n",
              "    }\n",
              "\n",
              "    .dataframe tbody tr th {\n",
              "        vertical-align: top;\n",
              "    }\n",
              "\n",
              "    .dataframe thead th {\n",
              "        text-align: right;\n",
              "    }\n",
              "</style>\n",
              "<table border=\"1\" class=\"dataframe\">\n",
              "  <thead>\n",
              "    <tr style=\"text-align: right;\">\n",
              "      <th></th>\n",
              "      <th>WELL_ID</th>\n",
              "      <th>DATE</th>\n",
              "      <th>CURRENT</th>\n",
              "      <th>PRESS_DESC</th>\n",
              "      <th>FREQUENCY</th>\n",
              "      <th>PRESS_INT</th>\n",
              "      <th>TEMP_INT</th>\n",
              "      <th>TEMP_MOT</th>\n",
              "      <th>OUT_VOLT</th>\n",
              "      <th>VIBRATION</th>\n",
              "      <th>PRESS_INTK</th>\n",
              "      <th>TEMP_INTK</th>\n",
              "      <th>WellFailure</th>\n",
              "    </tr>\n",
              "  </thead>\n",
              "  <tbody>\n",
              "    <tr>\n",
              "      <th>8232193</th>\n",
              "      <td>DEEPWATER-1AD32W</td>\n",
              "      <td>2021-05-17 03:59:22</td>\n",
              "      <td>32.0</td>\n",
              "      <td>3896.0</td>\n",
              "      <td>NaN</td>\n",
              "      <td>223.0</td>\n",
              "      <td>229.0</td>\n",
              "      <td>329.0</td>\n",
              "      <td>NaN</td>\n",
              "      <td>0.0</td>\n",
              "      <td>NaN</td>\n",
              "      <td>NaN</td>\n",
              "      <td>NaN</td>\n",
              "    </tr>\n",
              "    <tr>\n",
              "      <th>3729891</th>\n",
              "      <td>DEEPWATER-ISTQBO</td>\n",
              "      <td>2020-10-11 01:10:02</td>\n",
              "      <td>58.0</td>\n",
              "      <td>3829.0</td>\n",
              "      <td>56.0</td>\n",
              "      <td>413.0</td>\n",
              "      <td>223.0</td>\n",
              "      <td>288.0</td>\n",
              "      <td>NaN</td>\n",
              "      <td>0.0</td>\n",
              "      <td>NaN</td>\n",
              "      <td>NaN</td>\n",
              "      <td>NaN</td>\n",
              "    </tr>\n",
              "    <tr>\n",
              "      <th>8238456</th>\n",
              "      <td>DEEPWATER-EKA0CA</td>\n",
              "      <td>2021-05-17 10:16:55</td>\n",
              "      <td>21.0</td>\n",
              "      <td>4098.0</td>\n",
              "      <td>57.0</td>\n",
              "      <td>245.0</td>\n",
              "      <td>230.2</td>\n",
              "      <td>258.0</td>\n",
              "      <td>NaN</td>\n",
              "      <td>0.0</td>\n",
              "      <td>NaN</td>\n",
              "      <td>NaN</td>\n",
              "      <td>NaN</td>\n",
              "    </tr>\n",
              "    <tr>\n",
              "      <th>4245003</th>\n",
              "      <td>DEEPWATER-M24OXR</td>\n",
              "      <td>2020-10-20 16:14:04</td>\n",
              "      <td>64.0</td>\n",
              "      <td>4117.0</td>\n",
              "      <td>56.0</td>\n",
              "      <td>535.0</td>\n",
              "      <td>233.2</td>\n",
              "      <td>284.0</td>\n",
              "      <td>NaN</td>\n",
              "      <td>0.0</td>\n",
              "      <td>NaN</td>\n",
              "      <td>NaN</td>\n",
              "      <td>NaN</td>\n",
              "    </tr>\n",
              "    <tr>\n",
              "      <th>2820077</th>\n",
              "      <td>DEEPWATER-IVXM42</td>\n",
              "      <td>2020-09-14 06:44:41</td>\n",
              "      <td>52.0</td>\n",
              "      <td>3823.0</td>\n",
              "      <td>57.0</td>\n",
              "      <td>298.0</td>\n",
              "      <td>233.6</td>\n",
              "      <td>254.0</td>\n",
              "      <td>NaN</td>\n",
              "      <td>0.0</td>\n",
              "      <td>NaN</td>\n",
              "      <td>NaN</td>\n",
              "      <td>NaN</td>\n",
              "    </tr>\n",
              "  </tbody>\n",
              "</table>\n",
              "</div>"
            ],
            "text/plain": [
              "                  WELL_ID                DATE  ...  TEMP_INTK  WellFailure\n",
              "8232193  DEEPWATER-1AD32W 2021-05-17 03:59:22  ...        NaN          NaN\n",
              "3729891  DEEPWATER-ISTQBO 2020-10-11 01:10:02  ...        NaN          NaN\n",
              "8238456  DEEPWATER-EKA0CA 2021-05-17 10:16:55  ...        NaN          NaN\n",
              "4245003  DEEPWATER-M24OXR 2020-10-20 16:14:04  ...        NaN          NaN\n",
              "2820077  DEEPWATER-IVXM42 2020-09-14 06:44:41  ...        NaN          NaN\n",
              "\n",
              "[5 rows x 13 columns]"
            ]
          },
          "metadata": {},
          "execution_count": 11
        }
      ]
    },
    {
      "cell_type": "code",
      "metadata": {
        "execution": {
          "iopub.execute_input": "2021-08-23T18:25:54.844785Z",
          "iopub.status.busy": "2021-08-23T18:25:54.844499Z",
          "iopub.status.idle": "2021-08-23T18:25:54.885055Z",
          "shell.execute_reply": "2021-08-23T18:25:54.884439Z",
          "shell.execute_reply.started": "2021-08-23T18:25:54.844760Z"
        },
        "colab": {
          "base_uri": "https://localhost:8080/",
          "height": 313
        },
        "id": "09e3c47a",
        "outputId": "83620583-eed3-4bdd-dcf9-5889f319edf7"
      },
      "source": [
        "test.sample(5)"
      ],
      "id": "09e3c47a",
      "execution_count": 12,
      "outputs": [
        {
          "output_type": "execute_result",
          "data": {
            "text/html": [
              "<div>\n",
              "<style scoped>\n",
              "    .dataframe tbody tr th:only-of-type {\n",
              "        vertical-align: middle;\n",
              "    }\n",
              "\n",
              "    .dataframe tbody tr th {\n",
              "        vertical-align: top;\n",
              "    }\n",
              "\n",
              "    .dataframe thead th {\n",
              "        text-align: right;\n",
              "    }\n",
              "</style>\n",
              "<table border=\"1\" class=\"dataframe\">\n",
              "  <thead>\n",
              "    <tr style=\"text-align: right;\">\n",
              "      <th></th>\n",
              "      <th>WELL_ID</th>\n",
              "      <th>DATE</th>\n",
              "      <th>CURRENT</th>\n",
              "      <th>PRESS_DESC</th>\n",
              "      <th>FREQUENCY</th>\n",
              "      <th>PRESS_INT</th>\n",
              "      <th>TEMP_INT</th>\n",
              "      <th>TEMP_MOT</th>\n",
              "      <th>OUT_VOLT</th>\n",
              "      <th>VIBRATION</th>\n",
              "      <th>PRESS_INTK</th>\n",
              "      <th>TEMP_INTK</th>\n",
              "      <th>WellFailure</th>\n",
              "    </tr>\n",
              "  </thead>\n",
              "  <tbody>\n",
              "    <tr>\n",
              "      <th>1797</th>\n",
              "      <td>DEEPWATER-K0RPBL</td>\n",
              "      <td>2020-01-02 08:00:00</td>\n",
              "      <td>NaN</td>\n",
              "      <td>0.0</td>\n",
              "      <td>NaN</td>\n",
              "      <td>0.0000</td>\n",
              "      <td>-0.000002</td>\n",
              "      <td>-0.000002</td>\n",
              "      <td>NaN</td>\n",
              "      <td>0.000000</td>\n",
              "      <td>NaN</td>\n",
              "      <td>NaN</td>\n",
              "      <td>NaN</td>\n",
              "    </tr>\n",
              "    <tr>\n",
              "      <th>438967</th>\n",
              "      <td>DEEPWATER-S5VD4I</td>\n",
              "      <td>2020-09-17 06:01:03</td>\n",
              "      <td>19.000000</td>\n",
              "      <td>3999.0</td>\n",
              "      <td>53.0</td>\n",
              "      <td>1630.0000</td>\n",
              "      <td>230.000000</td>\n",
              "      <td>284.000000</td>\n",
              "      <td>NaN</td>\n",
              "      <td>0.000000</td>\n",
              "      <td>NaN</td>\n",
              "      <td>NaN</td>\n",
              "      <td>NaN</td>\n",
              "    </tr>\n",
              "    <tr>\n",
              "      <th>924366</th>\n",
              "      <td>DEEPWATER-UOOXPH</td>\n",
              "      <td>2021-01-15 20:24:44</td>\n",
              "      <td>67.000000</td>\n",
              "      <td>4186.0</td>\n",
              "      <td>58.0</td>\n",
              "      <td>217.0000</td>\n",
              "      <td>227.000000</td>\n",
              "      <td>291.000000</td>\n",
              "      <td>NaN</td>\n",
              "      <td>0.000000</td>\n",
              "      <td>NaN</td>\n",
              "      <td>NaN</td>\n",
              "      <td>NaN</td>\n",
              "    </tr>\n",
              "    <tr>\n",
              "      <th>211442</th>\n",
              "      <td>DEEPWATER-F022ZE</td>\n",
              "      <td>2020-05-18 22:07:00</td>\n",
              "      <td>23.799999</td>\n",
              "      <td>NaN</td>\n",
              "      <td>51.0</td>\n",
              "      <td>2188.7000</td>\n",
              "      <td>NaN</td>\n",
              "      <td>270.500000</td>\n",
              "      <td>NaN</td>\n",
              "      <td>NaN</td>\n",
              "      <td>NaN</td>\n",
              "      <td>NaN</td>\n",
              "      <td>NaN</td>\n",
              "    </tr>\n",
              "    <tr>\n",
              "      <th>220218</th>\n",
              "      <td>DEEPWATER-F022ZE</td>\n",
              "      <td>2020-05-24 13:00:00</td>\n",
              "      <td>23.799999</td>\n",
              "      <td>NaN</td>\n",
              "      <td>53.0</td>\n",
              "      <td>1725.2999</td>\n",
              "      <td>233.100010</td>\n",
              "      <td>272.500000</td>\n",
              "      <td>NaN</td>\n",
              "      <td>0.200136</td>\n",
              "      <td>NaN</td>\n",
              "      <td>NaN</td>\n",
              "      <td>NaN</td>\n",
              "    </tr>\n",
              "  </tbody>\n",
              "</table>\n",
              "</div>"
            ],
            "text/plain": [
              "                 WELL_ID                DATE  ...  TEMP_INTK  WellFailure\n",
              "1797    DEEPWATER-K0RPBL 2020-01-02 08:00:00  ...        NaN          NaN\n",
              "438967  DEEPWATER-S5VD4I 2020-09-17 06:01:03  ...        NaN          NaN\n",
              "924366  DEEPWATER-UOOXPH 2021-01-15 20:24:44  ...        NaN          NaN\n",
              "211442  DEEPWATER-F022ZE 2020-05-18 22:07:00  ...        NaN          NaN\n",
              "220218  DEEPWATER-F022ZE 2020-05-24 13:00:00  ...        NaN          NaN\n",
              "\n",
              "[5 rows x 13 columns]"
            ]
          },
          "metadata": {},
          "execution_count": 12
        }
      ]
    },
    {
      "cell_type": "markdown",
      "metadata": {
        "id": "dde68083"
      },
      "source": [
        "### <b>Clue:\n",
        "##### <b>PRESS_INT & PRESS_INTK</b> refer to the same thing (Intake Pressure), however the second is used only for the values of 2019.\n",
        "##### <b>TEMP_INT & TEMP_INTK</b> refer to the same thing (Intake Temperature), however the second is used only for the values of 2019."
      ],
      "id": "dde68083"
    },
    {
      "cell_type": "code",
      "metadata": {
        "execution": {
          "iopub.execute_input": "2021-08-23T18:25:57.816234Z",
          "iopub.status.busy": "2021-08-23T18:25:57.815931Z",
          "iopub.status.idle": "2021-08-23T18:25:57.985629Z",
          "shell.execute_reply": "2021-08-23T18:25:57.985018Z",
          "shell.execute_reply.started": "2021-08-23T18:25:57.816209Z"
        },
        "id": "05fd064f"
      },
      "source": [
        "# Therefore, we can run the next instruction to merge both columns\n",
        "train['PRESS_INT'] = train['PRESS_INT'].fillna(train['PRESS_INTK'])\n",
        "train['TEMP_INT'] = train['TEMP_INT'].fillna(train['TEMP_INTK'])\n",
        "\n",
        "test['PRESS_INT'] = test['PRESS_INT'].fillna(test['PRESS_INTK'])\n",
        "test['TEMP_INT'] = test['TEMP_INT'].fillna(test['TEMP_INTK'])"
      ],
      "id": "05fd064f",
      "execution_count": 13,
      "outputs": []
    },
    {
      "cell_type": "markdown",
      "metadata": {
        "id": "338481d8"
      },
      "source": [
        "# Data Insights"
      ],
      "id": "338481d8"
    },
    {
      "cell_type": "code",
      "metadata": {
        "execution": {
          "iopub.execute_input": "2021-08-23T19:45:26.053028Z",
          "iopub.status.busy": "2021-08-23T19:45:26.052717Z",
          "iopub.status.idle": "2021-08-23T19:45:26.657773Z",
          "shell.execute_reply": "2021-08-23T19:45:26.657033Z",
          "shell.execute_reply.started": "2021-08-23T19:45:26.053005Z"
        },
        "colab": {
          "base_uri": "https://localhost:8080/"
        },
        "id": "b8bfd464",
        "outputId": "bf907fb4-40cc-4fe0-8d26-7edae7bc799d"
      },
      "source": [
        "train_wells = train['WELL_ID'].unique()\n",
        "test_wells = test['WELL_ID'].unique()\n",
        "\n",
        "print('Train wells: ',len(train_wells))\n",
        "print('Test wells: ',len(test_wells))"
      ],
      "id": "b8bfd464",
      "execution_count": 14,
      "outputs": [
        {
          "output_type": "stream",
          "text": [
            "Train wells:  100\n",
            "Test wells:  15\n"
          ],
          "name": "stdout"
        }
      ]
    },
    {
      "cell_type": "code",
      "metadata": {
        "execution": {
          "iopub.execute_input": "2021-08-23T19:47:36.390172Z",
          "iopub.status.busy": "2021-08-23T19:47:36.389832Z",
          "iopub.status.idle": "2021-08-23T19:47:36.568482Z",
          "shell.execute_reply": "2021-08-23T19:47:36.567819Z",
          "shell.execute_reply.started": "2021-08-23T19:47:36.390147Z"
        },
        "colab": {
          "base_uri": "https://localhost:8080/",
          "height": 437
        },
        "id": "708a13e4",
        "outputId": "ba730d22-5b58-43b1-cdb6-95bf00cd4376"
      },
      "source": [
        "locations = pd.read_csv('well_locations.csv')\n",
        "\n",
        "fig = px.scatter(locations, x=locations.lon, y=locations.lat,hover_data=[locations['WELL_ID']])\n",
        "fig.update_layout(\n",
        "    width = 1200,\n",
        "    height = 400,\n",
        "    title = \"Well Locations\")\n",
        "\n",
        "fig.show()"
      ],
      "id": "708a13e4",
      "execution_count": 31,
      "outputs": [
        {
          "output_type": "display_data",
          "data": {
            "text/html": [
              "<html>\n",
              "<head><meta charset=\"utf-8\" /></head>\n",
              "<body>\n",
              "    <div>\n",
              "            <script src=\"https://cdnjs.cloudflare.com/ajax/libs/mathjax/2.7.5/MathJax.js?config=TeX-AMS-MML_SVG\"></script><script type=\"text/javascript\">if (window.MathJax) {MathJax.Hub.Config({SVG: {font: \"STIX-Web\"}});}</script>\n",
              "                <script type=\"text/javascript\">window.PlotlyConfig = {MathJaxConfig: 'local'};</script>\n",
              "        <script src=\"https://cdn.plot.ly/plotly-latest.min.js\"></script>    \n",
              "            <div id=\"d766d2cc-a2e8-4129-94db-a51eebfe35c7\" class=\"plotly-graph-div\" style=\"height:400px; width:1200px;\"></div>\n",
              "            <script type=\"text/javascript\">\n",
              "                \n",
              "                    window.PLOTLYENV=window.PLOTLYENV || {};\n",
              "                    \n",
              "                if (document.getElementById(\"d766d2cc-a2e8-4129-94db-a51eebfe35c7\")) {\n",
              "                    Plotly.newPlot(\n",
              "                        'd766d2cc-a2e8-4129-94db-a51eebfe35c7',\n",
              "                        [{\"customdata\": [[\"DEEPWATER-000XAR\"], [\"DEEPWATER-05YWY5\"], [\"DEEPWATER-0KPXEZ\"], [\"DEEPWATER-0RCI25\"], [\"DEEPWATER-0SSSKO\"], [\"DEEPWATER-1AD32W\"], [\"DEEPWATER-1P54OE\"], [\"DEEPWATER-1UBHZV\"], [\"DEEPWATER-1WHBG2\"], [\"DEEPWATER-1WOOJU\"], [\"DEEPWATER-2MK4DS\"], [\"DEEPWATER-34JETX\"], [\"DEEPWATER-3FD330\"], [\"DEEPWATER-3J5ZXG\"], [\"DEEPWATER-3OKFRE\"], [\"DEEPWATER-3PEB5I\"], [\"DEEPWATER-453GJ0\"], [\"DEEPWATER-4ISLB0\"], [\"DEEPWATER-4OBKXS\"], [\"DEEPWATER-4TYG1P\"], [\"DEEPWATER-51ZYBC\"], [\"DEEPWATER-55KSI1\"], [\"DEEPWATER-55X0XE\"], [\"DEEPWATER-5DEUPB\"], [\"DEEPWATER-5MZAFB\"], [\"DEEPWATER-5RY0MV\"], [\"DEEPWATER-A5W4QG\"], [\"DEEPWATER-AHJLPP\"], [\"DEEPWATER-B3GWPE\"], [\"DEEPWATER-BJE55K\"], [\"DEEPWATER-BOBJRC\"], [\"DEEPWATER-BOYHWX\"], [\"DEEPWATER-BP2VWC\"], [\"DEEPWATER-BPUSBG\"], [\"DEEPWATER-BQGB4S\"], [\"DEEPWATER-BSCH3H\"], [\"DEEPWATER-BZZIEL\"], [\"DEEPWATER-CEO3A4\"], [\"DEEPWATER-CWHG4H\"], [\"DEEPWATER-CY3WQW\"], [\"DEEPWATER-D4EH50\"], [\"DEEPWATER-DBMTTP\"], [\"DEEPWATER-DOA2ZP\"], [\"DEEPWATER-DSU5DC\"], [\"DEEPWATER-DTL53P\"], [\"DEEPWATER-EEJC2O\"], [\"DEEPWATER-EKA0CA\"], [\"DEEPWATER-EQEM2A\"], [\"DEEPWATER-EU2FJA\"], [\"DEEPWATER-F022ZE\"], [\"DEEPWATER-FS1PMT\"], [\"DEEPWATER-GBQGBP\"], [\"DEEPWATER-GIF2OB\"], [\"DEEPWATER-GMAJKI\"], [\"DEEPWATER-GP0VTX\"], [\"DEEPWATER-GROQ2A\"], [\"DEEPWATER-HFLRME\"], [\"DEEPWATER-HOQZS1\"], [\"DEEPWATER-IDE13P\"], [\"DEEPWATER-ISTQBO\"], [\"DEEPWATER-IVXM42\"], [\"DEEPWATER-IXZFOT\"], [\"DEEPWATER-JCS1GP\"], [\"DEEPWATER-K0RPBL\"], [\"DEEPWATER-L4I1KA\"], [\"DEEPWATER-LBWAYA\"], [\"DEEPWATER-LGIE0L\"], [\"DEEPWATER-LQB3RR\"], [\"DEEPWATER-LSHIAK\"], [\"DEEPWATER-M24OXR\"], [\"DEEPWATER-MECD2B\"], [\"DEEPWATER-MH3PGB\"], [\"DEEPWATER-MIVF4C\"], [\"DEEPWATER-MU3BOW\"], [\"DEEPWATER-OZ3GOQ\"], [\"DEEPWATER-P0WEXD\"], [\"DEEPWATER-P1BYRC\"], [\"DEEPWATER-PIK04Q\"], [\"DEEPWATER-QMGS25\"], [\"DEEPWATER-QWHHYC\"], [\"DEEPWATER-RAPG5L\"], [\"DEEPWATER-RBT1ST\"], [\"DEEPWATER-RDAYRK\"], [\"DEEPWATER-RGVXVD\"], [\"DEEPWATER-RKD3XC\"], [\"DEEPWATER-ROJ53V\"], [\"DEEPWATER-RU0CIY\"], [\"DEEPWATER-S0SAIU\"], [\"DEEPWATER-S5VD4I\"], [\"DEEPWATER-SF2VLY\"], [\"DEEPWATER-SGG1UU\"], [\"DEEPWATER-TPS1RK\"], [\"DEEPWATER-TSXTIY\"], [\"DEEPWATER-TU2XFX\"], [\"DEEPWATER-TXV4MX\"], [\"DEEPWATER-U3TTRI\"], [\"DEEPWATER-ULGPXE\"], [\"DEEPWATER-UOOXPH\"], [\"DEEPWATER-UVG14O\"], [\"DEEPWATER-UY0V1O\"], [\"DEEPWATER-VKCG0Y\"], [\"DEEPWATER-VVBMZ0\"], [\"DEEPWATER-W22D0A\"], [\"DEEPWATER-WHXTPD\"], [\"DEEPWATER-WJW1K1\"], [\"DEEPWATER-WJXDET\"], [\"DEEPWATER-X24VBI\"], [\"DEEPWATER-XASUQA\"], [\"DEEPWATER-XX0DST\"], [\"DEEPWATER-YDSE0D\"], [\"DEEPWATER-YX1MS2\"], [\"DEEPWATER-YXUYCS\"], [\"DEEPWATER-ZISKRZ\"], [\"DEEPWATER-ZSZCSG\"], [\"DEEPWATER-ZVH2KY\"]], \"hoverlabel\": {\"namelength\": 0}, \"hovertemplate\": \"lon=%{x}<br>lat=%{y}<br>WELL_ID=%{customdata[0]}\", \"legendgroup\": \"\", \"marker\": {\"color\": \"#636efa\", \"symbol\": \"circle\"}, \"mode\": \"markers\", \"name\": \"\", \"showlegend\": false, \"type\": \"scatter\", \"x\": [114.22808598, 114.1081499, 114.12630643, 114.15573739, 114.22057004, 114.08817217, 114.13356708, 114.11950566, 114.12034273, 114.13116352, 114.06587148, 114.1110767, 114.11265183, 114.11519956, 114.11135946, 114.12055729, 114.21004948, 114.2148784, 114.11087857, 114.12403778, 114.12184916, 114.07343741, 114.07644692, 114.11029799, 114.12767977, 114.10483023, 114.09861255, 114.15921582, 114.10215222, 114.08559337, 114.10417986, 114.07332302, 114.09089698, 114.12938707, 114.12318392, 114.10385099, 114.13212470000002, 114.11987914, 114.06972436, 114.12295151, 114.12982019, 114.11855257000002, 114.12847569, 114.07524738, 114.12451741, 114.21472641, 114.09657941, 114.12937418, 114.12287994, 114.07634707, 114.15861957, 114.11903856, 114.15940120000002, 114.12357959999999, 114.12179326, 114.21880690000002, 114.10336641, 114.12886217000002, 114.12796003, 114.12302831, 114.05716734, 114.11426466, 114.05017676, 114.08033887000002, 114.12293274, 114.07963227000002, 114.12445343, 114.12361977, 114.11561854, 114.13447875, 114.11722345, 114.10212431, 114.0657841, 114.12491701, 114.15164265, 114.11821849, 114.07163055, 114.12397875, 114.12697947, 114.21754018, 114.11008590000002, 114.07935457, 114.21470014000002, 114.07917235, 114.05379697, 114.09559491, 114.1262649, 114.21902483, 114.07529832, 114.19990855, 114.0687332, 114.09962194000002, 114.12282797, 114.18432473, 114.09668103, 114.10591475, 114.12749571, 114.20880062, 114.12726743, 114.12543475, 114.1240213, 114.11826333000002, 114.10817118, 114.13604971, 114.12077802, 114.08098670000001, 114.12994015, 114.12041935000002, 114.11932209999999, 114.07389655, 114.12557408, 114.12930747, 114.1166469, 114.11944217, 114.12537256], \"xaxis\": \"x\", \"y\": [-30.477810836000003, -30.48510216300001, -30.740403993, -30.510953706000013, -30.453406445, -30.470929583, -30.470919321000014, -30.770199716999997, -30.608459710000005, -30.627598289999995, -30.982719096, -30.748828049, -30.478908196000013, -30.633499471999997, -30.582535034000006, -30.61566528, -30.456113508999987, -30.460083532, -30.567202401000003, -30.690933568999995, -30.689723900000004, -30.92579433, -30.924337221999988, -30.573708897000003, -30.64057969300001, -30.85455746699999, -30.595741991999997, -30.518340068999986, -30.465502843000003, -30.58704634, -30.605001631000015, -30.981822916, -30.485943883, -30.700914929, -30.697236019, -30.484023225, -30.630197394, -30.78940329, -30.920240197, -30.668294719000002, -30.620596841000012, -30.593284063000002, -30.628745630999997, -30.96867154500001, -30.640190581, -30.449000377000004, -30.468662991999988, -30.607853347, -30.780886387, -30.914905941, -30.510831242, -30.774389138000004, -30.513463093000002, -30.688029035, -30.65724720600001, -30.451038999999994, -30.8636396, -30.616157888000004, -30.716548788, -30.653357301, -30.566729533999986, -30.629241573999987, -30.845967581999997, -30.933519479, -30.775270179000007, -30.918751968, -30.738371651999998, -30.801976162000003, -30.743676388, -30.735175551999998, -30.75200897399999, -30.47398470500001, -30.979703288000003, -30.689577048, -30.52193213300001, -30.694135141999997, -30.983983581999997, -30.778001183999987, -30.709599735, -30.456570276000015, -30.600342528000002, -30.923733758, -30.455497577000003, -30.97837014300001, -31.036485865000003, -30.569437001999997, -30.474375411, -30.466161798999988, -30.974728731, -30.467232954, -30.977269036000013, -30.484354355, -30.62014011, -30.601283101000014, -30.472807713000012, -30.488017677, -30.697427097, -30.452821289, -30.794558193, -30.786969633000002, -30.791320394, -30.658812327, -30.570889248, -30.627563731000013, -30.654845836999996, -30.940749676000014, -30.72789728, -30.682302233, -30.782699911000012, -30.922366224, -30.686424892, -30.736005332, -30.483225678, -30.632674368000004, -30.478758867], \"yaxis\": \"y\"}],\n",
              "                        {\"height\": 400, \"legend\": {\"tracegroupgap\": 0}, \"margin\": {\"t\": 60}, \"template\": {\"data\": {\"bar\": [{\"error_x\": {\"color\": \"#2a3f5f\"}, \"error_y\": {\"color\": \"#2a3f5f\"}, \"marker\": {\"line\": {\"color\": \"#E5ECF6\", \"width\": 0.5}}, \"type\": \"bar\"}], \"barpolar\": [{\"marker\": {\"line\": {\"color\": \"#E5ECF6\", \"width\": 0.5}}, \"type\": \"barpolar\"}], \"carpet\": [{\"aaxis\": {\"endlinecolor\": \"#2a3f5f\", \"gridcolor\": \"white\", \"linecolor\": \"white\", \"minorgridcolor\": \"white\", \"startlinecolor\": \"#2a3f5f\"}, \"baxis\": {\"endlinecolor\": \"#2a3f5f\", \"gridcolor\": \"white\", \"linecolor\": \"white\", \"minorgridcolor\": \"white\", \"startlinecolor\": \"#2a3f5f\"}, \"type\": \"carpet\"}], \"choropleth\": [{\"colorbar\": {\"outlinewidth\": 0, \"ticks\": \"\"}, \"type\": \"choropleth\"}], \"contour\": [{\"colorbar\": {\"outlinewidth\": 0, \"ticks\": \"\"}, \"colorscale\": [[0.0, \"#0d0887\"], [0.1111111111111111, \"#46039f\"], [0.2222222222222222, \"#7201a8\"], [0.3333333333333333, \"#9c179e\"], [0.4444444444444444, \"#bd3786\"], [0.5555555555555556, \"#d8576b\"], [0.6666666666666666, \"#ed7953\"], [0.7777777777777778, \"#fb9f3a\"], [0.8888888888888888, \"#fdca26\"], [1.0, \"#f0f921\"]], \"type\": \"contour\"}], \"contourcarpet\": [{\"colorbar\": {\"outlinewidth\": 0, \"ticks\": \"\"}, \"type\": \"contourcarpet\"}], \"heatmap\": [{\"colorbar\": {\"outlinewidth\": 0, \"ticks\": \"\"}, \"colorscale\": [[0.0, \"#0d0887\"], [0.1111111111111111, \"#46039f\"], [0.2222222222222222, \"#7201a8\"], [0.3333333333333333, \"#9c179e\"], [0.4444444444444444, \"#bd3786\"], [0.5555555555555556, \"#d8576b\"], [0.6666666666666666, \"#ed7953\"], [0.7777777777777778, \"#fb9f3a\"], [0.8888888888888888, \"#fdca26\"], [1.0, \"#f0f921\"]], \"type\": \"heatmap\"}], \"heatmapgl\": [{\"colorbar\": {\"outlinewidth\": 0, \"ticks\": \"\"}, \"colorscale\": [[0.0, \"#0d0887\"], [0.1111111111111111, \"#46039f\"], [0.2222222222222222, \"#7201a8\"], [0.3333333333333333, \"#9c179e\"], [0.4444444444444444, \"#bd3786\"], [0.5555555555555556, \"#d8576b\"], [0.6666666666666666, \"#ed7953\"], [0.7777777777777778, \"#fb9f3a\"], [0.8888888888888888, \"#fdca26\"], [1.0, \"#f0f921\"]], \"type\": \"heatmapgl\"}], \"histogram\": [{\"marker\": {\"colorbar\": {\"outlinewidth\": 0, \"ticks\": \"\"}}, \"type\": \"histogram\"}], \"histogram2d\": [{\"colorbar\": {\"outlinewidth\": 0, \"ticks\": \"\"}, \"colorscale\": [[0.0, \"#0d0887\"], [0.1111111111111111, \"#46039f\"], [0.2222222222222222, \"#7201a8\"], [0.3333333333333333, \"#9c179e\"], [0.4444444444444444, \"#bd3786\"], [0.5555555555555556, \"#d8576b\"], [0.6666666666666666, \"#ed7953\"], [0.7777777777777778, \"#fb9f3a\"], [0.8888888888888888, \"#fdca26\"], [1.0, \"#f0f921\"]], \"type\": \"histogram2d\"}], \"histogram2dcontour\": [{\"colorbar\": {\"outlinewidth\": 0, \"ticks\": \"\"}, \"colorscale\": [[0.0, \"#0d0887\"], [0.1111111111111111, \"#46039f\"], [0.2222222222222222, \"#7201a8\"], [0.3333333333333333, \"#9c179e\"], [0.4444444444444444, \"#bd3786\"], [0.5555555555555556, \"#d8576b\"], [0.6666666666666666, \"#ed7953\"], [0.7777777777777778, \"#fb9f3a\"], [0.8888888888888888, \"#fdca26\"], [1.0, \"#f0f921\"]], \"type\": \"histogram2dcontour\"}], \"mesh3d\": [{\"colorbar\": {\"outlinewidth\": 0, \"ticks\": \"\"}, \"type\": \"mesh3d\"}], \"parcoords\": [{\"line\": {\"colorbar\": {\"outlinewidth\": 0, \"ticks\": \"\"}}, \"type\": \"parcoords\"}], \"pie\": [{\"automargin\": true, \"type\": \"pie\"}], \"scatter\": [{\"marker\": {\"colorbar\": {\"outlinewidth\": 0, \"ticks\": \"\"}}, \"type\": \"scatter\"}], \"scatter3d\": [{\"line\": {\"colorbar\": {\"outlinewidth\": 0, \"ticks\": \"\"}}, \"marker\": {\"colorbar\": {\"outlinewidth\": 0, \"ticks\": \"\"}}, \"type\": \"scatter3d\"}], \"scattercarpet\": [{\"marker\": {\"colorbar\": {\"outlinewidth\": 0, \"ticks\": \"\"}}, \"type\": \"scattercarpet\"}], \"scattergeo\": [{\"marker\": {\"colorbar\": {\"outlinewidth\": 0, \"ticks\": \"\"}}, \"type\": \"scattergeo\"}], \"scattergl\": [{\"marker\": {\"colorbar\": {\"outlinewidth\": 0, \"ticks\": \"\"}}, \"type\": \"scattergl\"}], \"scattermapbox\": [{\"marker\": {\"colorbar\": {\"outlinewidth\": 0, \"ticks\": \"\"}}, \"type\": \"scattermapbox\"}], \"scatterpolar\": [{\"marker\": {\"colorbar\": {\"outlinewidth\": 0, \"ticks\": \"\"}}, \"type\": \"scatterpolar\"}], \"scatterpolargl\": [{\"marker\": {\"colorbar\": {\"outlinewidth\": 0, \"ticks\": \"\"}}, \"type\": \"scatterpolargl\"}], \"scatterternary\": [{\"marker\": {\"colorbar\": {\"outlinewidth\": 0, \"ticks\": \"\"}}, \"type\": \"scatterternary\"}], \"surface\": [{\"colorbar\": {\"outlinewidth\": 0, \"ticks\": \"\"}, \"colorscale\": [[0.0, \"#0d0887\"], [0.1111111111111111, \"#46039f\"], [0.2222222222222222, \"#7201a8\"], [0.3333333333333333, \"#9c179e\"], [0.4444444444444444, \"#bd3786\"], [0.5555555555555556, \"#d8576b\"], [0.6666666666666666, \"#ed7953\"], [0.7777777777777778, \"#fb9f3a\"], [0.8888888888888888, \"#fdca26\"], [1.0, \"#f0f921\"]], \"type\": \"surface\"}], \"table\": [{\"cells\": {\"fill\": {\"color\": \"#EBF0F8\"}, \"line\": {\"color\": \"white\"}}, \"header\": {\"fill\": {\"color\": \"#C8D4E3\"}, \"line\": {\"color\": \"white\"}}, \"type\": \"table\"}]}, \"layout\": {\"annotationdefaults\": {\"arrowcolor\": \"#2a3f5f\", \"arrowhead\": 0, \"arrowwidth\": 1}, \"coloraxis\": {\"colorbar\": {\"outlinewidth\": 0, \"ticks\": \"\"}}, \"colorscale\": {\"diverging\": [[0, \"#8e0152\"], [0.1, \"#c51b7d\"], [0.2, \"#de77ae\"], [0.3, \"#f1b6da\"], [0.4, \"#fde0ef\"], [0.5, \"#f7f7f7\"], [0.6, \"#e6f5d0\"], [0.7, \"#b8e186\"], [0.8, \"#7fbc41\"], [0.9, \"#4d9221\"], [1, \"#276419\"]], \"sequential\": [[0.0, \"#0d0887\"], [0.1111111111111111, \"#46039f\"], [0.2222222222222222, \"#7201a8\"], [0.3333333333333333, \"#9c179e\"], [0.4444444444444444, \"#bd3786\"], [0.5555555555555556, \"#d8576b\"], [0.6666666666666666, \"#ed7953\"], [0.7777777777777778, \"#fb9f3a\"], [0.8888888888888888, \"#fdca26\"], [1.0, \"#f0f921\"]], \"sequentialminus\": [[0.0, \"#0d0887\"], [0.1111111111111111, \"#46039f\"], [0.2222222222222222, \"#7201a8\"], [0.3333333333333333, \"#9c179e\"], [0.4444444444444444, \"#bd3786\"], [0.5555555555555556, \"#d8576b\"], [0.6666666666666666, \"#ed7953\"], [0.7777777777777778, \"#fb9f3a\"], [0.8888888888888888, \"#fdca26\"], [1.0, \"#f0f921\"]]}, \"colorway\": [\"#636efa\", \"#EF553B\", \"#00cc96\", \"#ab63fa\", \"#FFA15A\", \"#19d3f3\", \"#FF6692\", \"#B6E880\", \"#FF97FF\", \"#FECB52\"], \"font\": {\"color\": \"#2a3f5f\"}, \"geo\": {\"bgcolor\": \"white\", \"lakecolor\": \"white\", \"landcolor\": \"#E5ECF6\", \"showlakes\": true, \"showland\": true, \"subunitcolor\": \"white\"}, \"hoverlabel\": {\"align\": \"left\"}, \"hovermode\": \"closest\", \"mapbox\": {\"style\": \"light\"}, \"paper_bgcolor\": \"white\", \"plot_bgcolor\": \"#E5ECF6\", \"polar\": {\"angularaxis\": {\"gridcolor\": \"white\", \"linecolor\": \"white\", \"ticks\": \"\"}, \"bgcolor\": \"#E5ECF6\", \"radialaxis\": {\"gridcolor\": \"white\", \"linecolor\": \"white\", \"ticks\": \"\"}}, \"scene\": {\"xaxis\": {\"backgroundcolor\": \"#E5ECF6\", \"gridcolor\": \"white\", \"gridwidth\": 2, \"linecolor\": \"white\", \"showbackground\": true, \"ticks\": \"\", \"zerolinecolor\": \"white\"}, \"yaxis\": {\"backgroundcolor\": \"#E5ECF6\", \"gridcolor\": \"white\", \"gridwidth\": 2, \"linecolor\": \"white\", \"showbackground\": true, \"ticks\": \"\", \"zerolinecolor\": \"white\"}, \"zaxis\": {\"backgroundcolor\": \"#E5ECF6\", \"gridcolor\": \"white\", \"gridwidth\": 2, \"linecolor\": \"white\", \"showbackground\": true, \"ticks\": \"\", \"zerolinecolor\": \"white\"}}, \"shapedefaults\": {\"line\": {\"color\": \"#2a3f5f\"}}, \"ternary\": {\"aaxis\": {\"gridcolor\": \"white\", \"linecolor\": \"white\", \"ticks\": \"\"}, \"baxis\": {\"gridcolor\": \"white\", \"linecolor\": \"white\", \"ticks\": \"\"}, \"bgcolor\": \"#E5ECF6\", \"caxis\": {\"gridcolor\": \"white\", \"linecolor\": \"white\", \"ticks\": \"\"}}, \"title\": {\"x\": 0.05}, \"xaxis\": {\"automargin\": true, \"gridcolor\": \"white\", \"linecolor\": \"white\", \"ticks\": \"\", \"title\": {\"standoff\": 15}, \"zerolinecolor\": \"white\", \"zerolinewidth\": 2}, \"yaxis\": {\"automargin\": true, \"gridcolor\": \"white\", \"linecolor\": \"white\", \"ticks\": \"\", \"title\": {\"standoff\": 15}, \"zerolinecolor\": \"white\", \"zerolinewidth\": 2}}}, \"title\": {\"text\": \"Well Locations\"}, \"width\": 1200, \"xaxis\": {\"anchor\": \"y\", \"domain\": [0.0, 1.0], \"title\": {\"text\": \"lon\"}}, \"yaxis\": {\"anchor\": \"x\", \"domain\": [0.0, 1.0], \"title\": {\"text\": \"lat\"}}},\n",
              "                        {\"responsive\": true}\n",
              "                    ).then(function(){\n",
              "                            \n",
              "var gd = document.getElementById('d766d2cc-a2e8-4129-94db-a51eebfe35c7');\n",
              "var x = new MutationObserver(function (mutations, observer) {{\n",
              "        var display = window.getComputedStyle(gd).display;\n",
              "        if (!display || display === 'none') {{\n",
              "            console.log([gd, 'removed!']);\n",
              "            Plotly.purge(gd);\n",
              "            observer.disconnect();\n",
              "        }}\n",
              "}});\n",
              "\n",
              "// Listen for the removal of the full notebook cells\n",
              "var notebookContainer = gd.closest('#notebook-container');\n",
              "if (notebookContainer) {{\n",
              "    x.observe(notebookContainer, {childList: true});\n",
              "}}\n",
              "\n",
              "// Listen for the clearing of the current output cell\n",
              "var outputEl = gd.closest('.output');\n",
              "if (outputEl) {{\n",
              "    x.observe(outputEl, {childList: true});\n",
              "}}\n",
              "\n",
              "                        })\n",
              "                };\n",
              "                \n",
              "            </script>\n",
              "        </div>\n",
              "</body>\n",
              "</html>"
            ]
          },
          "metadata": {}
        }
      ]
    },
    {
      "cell_type": "code",
      "metadata": {
        "execution": {
          "iopub.execute_input": "2021-08-23T03:59:13.059439Z",
          "iopub.status.busy": "2021-08-23T03:59:13.059134Z",
          "iopub.status.idle": "2021-08-23T03:59:17.940996Z",
          "shell.execute_reply": "2021-08-23T03:59:17.940506Z",
          "shell.execute_reply.started": "2021-08-23T03:59:13.059414Z"
        },
        "colab": {
          "base_uri": "https://localhost:8080/",
          "height": 300
        },
        "id": "57ce24df",
        "outputId": "87d0c814-6a05-450c-8716-755e261c1924"
      },
      "source": [
        "train.describe().round(2)"
      ],
      "id": "57ce24df",
      "execution_count": 22,
      "outputs": [
        {
          "output_type": "execute_result",
          "data": {
            "text/html": [
              "<div>\n",
              "<style scoped>\n",
              "    .dataframe tbody tr th:only-of-type {\n",
              "        vertical-align: middle;\n",
              "    }\n",
              "\n",
              "    .dataframe tbody tr th {\n",
              "        vertical-align: top;\n",
              "    }\n",
              "\n",
              "    .dataframe thead th {\n",
              "        text-align: right;\n",
              "    }\n",
              "</style>\n",
              "<table border=\"1\" class=\"dataframe\">\n",
              "  <thead>\n",
              "    <tr style=\"text-align: right;\">\n",
              "      <th></th>\n",
              "      <th>CURRENT</th>\n",
              "      <th>PRESS_DESC</th>\n",
              "      <th>FREQUENCY</th>\n",
              "      <th>PRESS_INT</th>\n",
              "      <th>TEMP_INT</th>\n",
              "      <th>TEMP_MOT</th>\n",
              "      <th>OUT_VOLT</th>\n",
              "      <th>VIBRATION</th>\n",
              "      <th>PRESS_INTK</th>\n",
              "      <th>TEMP_INTK</th>\n",
              "    </tr>\n",
              "  </thead>\n",
              "  <tbody>\n",
              "    <tr>\n",
              "      <th>count</th>\n",
              "      <td>7925402.00</td>\n",
              "      <td>7888853.00</td>\n",
              "      <td>8122068.00</td>\n",
              "      <td>8165502.00</td>\n",
              "      <td>8035044.00</td>\n",
              "      <td>8130948.00</td>\n",
              "      <td>354864.00</td>\n",
              "      <td>7840173.00</td>\n",
              "      <td>19120.00</td>\n",
              "      <td>19120.00</td>\n",
              "    </tr>\n",
              "    <tr>\n",
              "      <th>mean</th>\n",
              "      <td>36.63</td>\n",
              "      <td>3589.59</td>\n",
              "      <td>57.44</td>\n",
              "      <td>1189.48</td>\n",
              "      <td>290.94</td>\n",
              "      <td>275.68</td>\n",
              "      <td>336.48</td>\n",
              "      <td>243.34</td>\n",
              "      <td>2535.62</td>\n",
              "      <td>198.80</td>\n",
              "    </tr>\n",
              "    <tr>\n",
              "      <th>std</th>\n",
              "      <td>28.49</td>\n",
              "      <td>2075.57</td>\n",
              "      <td>26.76</td>\n",
              "      <td>7643.48</td>\n",
              "      <td>891.62</td>\n",
              "      <td>142.34</td>\n",
              "      <td>186.67</td>\n",
              "      <td>3979.58</td>\n",
              "      <td>13290.80</td>\n",
              "      <td>218.76</td>\n",
              "    </tr>\n",
              "    <tr>\n",
              "      <th>min</th>\n",
              "      <td>0.00</td>\n",
              "      <td>-3276.00</td>\n",
              "      <td>0.00</td>\n",
              "      <td>0.00</td>\n",
              "      <td>-3180.40</td>\n",
              "      <td>-17.78</td>\n",
              "      <td>0.00</td>\n",
              "      <td>0.00</td>\n",
              "      <td>0.00</td>\n",
              "      <td>-17.78</td>\n",
              "    </tr>\n",
              "    <tr>\n",
              "      <th>25%</th>\n",
              "      <td>22.00</td>\n",
              "      <td>3653.00</td>\n",
              "      <td>53.00</td>\n",
              "      <td>256.00</td>\n",
              "      <td>226.00</td>\n",
              "      <td>267.60</td>\n",
              "      <td>378.20</td>\n",
              "      <td>0.00</td>\n",
              "      <td>215.38</td>\n",
              "      <td>220.91</td>\n",
              "    </tr>\n",
              "    <tr>\n",
              "      <th>50%</th>\n",
              "      <td>33.00</td>\n",
              "      <td>3952.00</td>\n",
              "      <td>56.00</td>\n",
              "      <td>360.00</td>\n",
              "      <td>230.00</td>\n",
              "      <td>284.00</td>\n",
              "      <td>433.90</td>\n",
              "      <td>0.00</td>\n",
              "      <td>346.34</td>\n",
              "      <td>228.25</td>\n",
              "    </tr>\n",
              "    <tr>\n",
              "      <th>75%</th>\n",
              "      <td>55.00</td>\n",
              "      <td>4126.00</td>\n",
              "      <td>60.00</td>\n",
              "      <td>709.00</td>\n",
              "      <td>235.00</td>\n",
              "      <td>296.00</td>\n",
              "      <td>458.60</td>\n",
              "      <td>0.00</td>\n",
              "      <td>630.55</td>\n",
              "      <td>238.57</td>\n",
              "    </tr>\n",
              "    <tr>\n",
              "      <th>max</th>\n",
              "      <td>51970.00</td>\n",
              "      <td>94906.90</td>\n",
              "      <td>5051.00</td>\n",
              "      <td>189813.80</td>\n",
              "      <td>11827.00</td>\n",
              "      <td>6553.50</td>\n",
              "      <td>953.00</td>\n",
              "      <td>65535.00</td>\n",
              "      <td>94906.90</td>\n",
              "      <td>6553.50</td>\n",
              "    </tr>\n",
              "  </tbody>\n",
              "</table>\n",
              "</div>"
            ],
            "text/plain": [
              "          CURRENT  PRESS_DESC   FREQUENCY  ...   VIBRATION  PRESS_INTK  TEMP_INTK\n",
              "count  7925402.00  7888853.00  8122068.00  ...  7840173.00    19120.00   19120.00\n",
              "mean        36.63     3589.59       57.44  ...      243.34     2535.62     198.80\n",
              "std         28.49     2075.57       26.76  ...     3979.58    13290.80     218.76\n",
              "min          0.00    -3276.00        0.00  ...        0.00        0.00     -17.78\n",
              "25%         22.00     3653.00       53.00  ...        0.00      215.38     220.91\n",
              "50%         33.00     3952.00       56.00  ...        0.00      346.34     228.25\n",
              "75%         55.00     4126.00       60.00  ...        0.00      630.55     238.57\n",
              "max      51970.00    94906.90     5051.00  ...    65535.00    94906.90    6553.50\n",
              "\n",
              "[8 rows x 10 columns]"
            ]
          },
          "metadata": {},
          "execution_count": 22
        }
      ]
    },
    {
      "cell_type": "code",
      "metadata": {
        "execution": {
          "iopub.execute_input": "2021-08-23T04:14:49.546076Z",
          "iopub.status.busy": "2021-08-23T04:14:49.545775Z",
          "iopub.status.idle": "2021-08-23T04:14:49.551352Z",
          "shell.execute_reply": "2021-08-23T04:14:49.550734Z",
          "shell.execute_reply.started": "2021-08-23T04:14:49.546052Z"
        },
        "id": "0373f1e7"
      },
      "source": [
        "def vizualize_date_vs(df,feature):\n",
        "    df = df.sort_values(by=['DATE','WELL_ID']).set_index('DATE')\n",
        "    # For visualization purposes, get ride of outliers from the plots by adding to the mean +-5 times the STD \n",
        "    lower_limit, higher_limit = df[feature].mean() - 5*df[feature].std(), df[feature].mean() + 5*df[feature].std()        \n",
        "    min_idx = list(df.loc[df[feature]<=lower_limit].index.values)\n",
        "    max_idx = list(df.loc[df[feature]>=higher_limit ].index.values)  \n",
        "    if len(min_idx)>0:\n",
        "      df.loc[min_idx,feature] = lower_limit       \n",
        "    if len(max_idx)>0:\n",
        "      df.loc[max_idx,feature] = higher_limit\n",
        "    \n",
        "    plt.figure(figsize=(15,5))\n",
        "    plt.plot(df[[feature]])"
      ],
      "id": "0373f1e7",
      "execution_count": 37,
      "outputs": []
    },
    {
      "cell_type": "code",
      "metadata": {
        "execution": {
          "iopub.execute_input": "2021-08-23T04:14:51.883160Z",
          "iopub.status.busy": "2021-08-23T04:14:51.882844Z",
          "iopub.status.idle": "2021-08-23T04:15:02.026722Z",
          "shell.execute_reply": "2021-08-23T04:15:02.026176Z",
          "shell.execute_reply.started": "2021-08-23T04:14:51.883134Z"
        },
        "colab": {
          "base_uri": "https://localhost:8080/",
          "height": 320
        },
        "id": "28b5056d",
        "outputId": "a317435a-08c5-48e2-8f82-f479d4ff0653"
      },
      "source": [
        "vizualize_date_vs(train,'CURRENT')"
      ],
      "id": "28b5056d",
      "execution_count": 38,
      "outputs": [
        {
          "output_type": "display_data",
          "data": {
            "image/png": "[encoded data removed]",
            "text/plain": [
              "<Figure size 1080x360 with 1 Axes>"
            ]
          },
          "metadata": {
            "needs_background": "light"
          }
        }
      ]
    },
    {
      "cell_type": "code",
      "metadata": {
        "execution": {
          "iopub.execute_input": "2021-08-23T04:15:14.886235Z",
          "iopub.status.busy": "2021-08-23T04:15:14.885923Z",
          "iopub.status.idle": "2021-08-23T04:15:23.739930Z",
          "shell.execute_reply": "2021-08-23T04:15:23.739268Z",
          "shell.execute_reply.started": "2021-08-23T04:15:14.886209Z"
        },
        "colab": {
          "base_uri": "https://localhost:8080/",
          "height": 323
        },
        "id": "218df2ba",
        "outputId": "17f0f013-1146-4703-b67b-7b18fdf94425"
      },
      "source": [
        "vizualize_date_vs(train,'FREQUENCY')"
      ],
      "id": "218df2ba",
      "execution_count": 39,
      "outputs": [
        {
          "output_type": "display_data",
          "data": {
            "image/png": "[encoded data removed]",
            "text/plain": [
              "<Figure size 1080x360 with 1 Axes>"
            ]
          },
          "metadata": {
            "needs_background": "light"
          }
        }
      ]
    },
    {
      "cell_type": "code",
      "metadata": {
        "execution": {
          "iopub.execute_input": "2021-08-23T04:15:35.977148Z",
          "iopub.status.busy": "2021-08-23T04:15:35.976843Z",
          "iopub.status.idle": "2021-08-23T04:15:45.382078Z",
          "shell.execute_reply": "2021-08-23T04:15:45.381538Z",
          "shell.execute_reply.started": "2021-08-23T04:15:35.977122Z"
        },
        "colab": {
          "base_uri": "https://localhost:8080/",
          "height": 320
        },
        "id": "91bd711a",
        "outputId": "d975b7b1-4743-4c5f-c60f-650d894097da"
      },
      "source": [
        "vizualize_date_vs(train,'PRESS_DESC')"
      ],
      "id": "91bd711a",
      "execution_count": 40,
      "outputs": [
        {
          "output_type": "display_data",
          "data": {
            "image/png": "[encoded data removed]",
            "text/plain": [
              "<Figure size 1080x360 with 1 Axes>"
            ]
          },
          "metadata": {
            "needs_background": "light"
          }
        }
      ]
    },
    {
      "cell_type": "code",
      "metadata": {
        "execution": {
          "iopub.execute_input": "2021-08-23T04:15:45.383847Z",
          "iopub.status.busy": "2021-08-23T04:15:45.383353Z",
          "iopub.status.idle": "2021-08-23T04:15:54.765714Z",
          "shell.execute_reply": "2021-08-23T04:15:54.765135Z",
          "shell.execute_reply.started": "2021-08-23T04:15:45.383805Z"
        },
        "colab": {
          "base_uri": "https://localhost:8080/",
          "height": 320
        },
        "id": "0ca05064",
        "outputId": "f10e8cb9-2d87-49bd-b489-dc7ae172071b"
      },
      "source": [
        "vizualize_date_vs(train,'PRESS_INT')"
      ],
      "id": "0ca05064",
      "execution_count": 41,
      "outputs": [
        {
          "output_type": "display_data",
          "data": {
            "image/png": "[encoded data removed]",
            "text/plain": [
              "<Figure size 1080x360 with 1 Axes>"
            ]
          },
          "metadata": {
            "needs_background": "light"
          }
        }
      ]
    },
    {
      "cell_type": "code",
      "metadata": {
        "execution": {
          "iopub.execute_input": "2021-08-23T04:15:54.767233Z",
          "iopub.status.busy": "2021-08-23T04:15:54.766764Z",
          "iopub.status.idle": "2021-08-23T04:16:02.352961Z",
          "shell.execute_reply": "2021-08-23T04:16:02.352399Z",
          "shell.execute_reply.started": "2021-08-23T04:15:54.767197Z"
        },
        "id": "31d1fab9",
        "outputId": "85b250d9-ad6d-4cf6-ccfe-fd5540380c66"
      },
      "source": [
        "vizualize_date_vs(train,'PRESS_INTK')"
      ],
      "id": "31d1fab9",
      "execution_count": null,
      "outputs": [
        {
          "data": {
            "image/png": "[encoded data removed]",
            "text/plain": [
              "<Figure size 1080x360 with 1 Axes>"
            ]
          },
          "metadata": {
            "needs_background": "light"
          },
          "output_type": "display_data"
        }
      ]
    },
    {
      "cell_type": "code",
      "metadata": {
        "execution": {
          "iopub.execute_input": "2021-08-23T04:16:02.354387Z",
          "iopub.status.busy": "2021-08-23T04:16:02.354149Z",
          "iopub.status.idle": "2021-08-23T04:16:11.395399Z",
          "shell.execute_reply": "2021-08-23T04:16:11.394743Z",
          "shell.execute_reply.started": "2021-08-23T04:16:02.354365Z"
        },
        "id": "37f96175",
        "outputId": "adb132c4-9d64-46e6-8d06-72db20b1396f"
      },
      "source": [
        "vizualize_date_vs(train,'TEMP_INT')"
      ],
      "id": "37f96175",
      "execution_count": null,
      "outputs": [
        {
          "data": {
            "image/png": "[encoded data removed]",
            "text/plain": [
              "<Figure size 1080x360 with 1 Axes>"
            ]
          },
          "metadata": {
            "needs_background": "light"
          },
          "output_type": "display_data"
        }
      ]
    },
    {
      "cell_type": "code",
      "metadata": {
        "execution": {
          "iopub.execute_input": "2021-08-23T04:16:11.396551Z",
          "iopub.status.busy": "2021-08-23T04:16:11.396292Z",
          "iopub.status.idle": "2021-08-23T04:16:18.978201Z",
          "shell.execute_reply": "2021-08-23T04:16:18.977555Z",
          "shell.execute_reply.started": "2021-08-23T04:16:11.396529Z"
        },
        "id": "b6a0f28d",
        "outputId": "3928162b-0b71-4ff7-c0df-cc7030cea6a4"
      },
      "source": [
        "vizualize_date_vs(train,'TEMP_INTK')"
      ],
      "id": "b6a0f28d",
      "execution_count": null,
      "outputs": [
        {
          "data": {
            "image/png": "[encoded data removed]",
            "text/plain": [
              "<Figure size 1080x360 with 1 Axes>"
            ]
          },
          "metadata": {
            "needs_background": "light"
          },
          "output_type": "display_data"
        }
      ]
    },
    {
      "cell_type": "code",
      "metadata": {
        "execution": {
          "iopub.execute_input": "2021-08-23T04:16:18.979698Z",
          "iopub.status.busy": "2021-08-23T04:16:18.979243Z",
          "iopub.status.idle": "2021-08-23T04:16:28.473129Z",
          "shell.execute_reply": "2021-08-23T04:16:28.472454Z",
          "shell.execute_reply.started": "2021-08-23T04:16:18.979662Z"
        },
        "id": "8dd5a69b",
        "outputId": "5b05b717-6514-4785-9830-96cbfd4b2c90"
      },
      "source": [
        "vizualize_date_vs(train,'TEMP_MOT')"
      ],
      "id": "8dd5a69b",
      "execution_count": null,
      "outputs": [
        {
          "data": {
            "image/png": "[encoded data removed]",
            "text/plain": [
              "<Figure size 1080x360 with 1 Axes>"
            ]
          },
          "metadata": {
            "needs_background": "light"
          },
          "output_type": "display_data"
        }
      ]
    },
    {
      "cell_type": "code",
      "metadata": {
        "execution": {
          "iopub.execute_input": "2021-08-23T04:16:28.474253Z",
          "iopub.status.busy": "2021-08-23T04:16:28.474056Z",
          "iopub.status.idle": "2021-08-23T04:16:37.172073Z",
          "shell.execute_reply": "2021-08-23T04:16:37.171505Z",
          "shell.execute_reply.started": "2021-08-23T04:16:28.474231Z"
        },
        "id": "185a216b",
        "outputId": "df1ace1d-8467-498e-b39e-856dbd409d54"
      },
      "source": [
        "vizualize_date_vs(train,'VIBRATION')"
      ],
      "id": "185a216b",
      "execution_count": null,
      "outputs": [
        {
          "data": {
            "image/png": "[encoded data removed]",
            "text/plain": [
              "<Figure size 1080x360 with 1 Axes>"
            ]
          },
          "metadata": {
            "needs_background": "light"
          },
          "output_type": "display_data"
        }
      ]
    },
    {
      "cell_type": "code",
      "metadata": {
        "execution": {
          "iopub.execute_input": "2021-08-23T04:16:37.173564Z",
          "iopub.status.busy": "2021-08-23T04:16:37.173083Z",
          "iopub.status.idle": "2021-08-23T04:16:44.539569Z",
          "shell.execute_reply": "2021-08-23T04:16:44.538917Z",
          "shell.execute_reply.started": "2021-08-23T04:16:37.173536Z"
        },
        "id": "9ae6e077",
        "outputId": "dec33c3e-3352-46e3-a22d-5a70ec62af51"
      },
      "source": [
        "vizualize_date_vs(train,'OUT_VOLT')"
      ],
      "id": "9ae6e077",
      "execution_count": null,
      "outputs": [
        {
          "data": {
            "image/png": "[encoded data removed]",
            "text/plain": [
              "<Figure size 1080x360 with 1 Axes>"
            ]
          },
          "metadata": {
            "needs_background": "light"
          },
          "output_type": "display_data"
        }
      ]
    },
    {
      "cell_type": "markdown",
      "metadata": {
        "id": "204a5568"
      },
      "source": [
        "# Input Missing Values"
      ],
      "id": "204a5568"
    },
    {
      "cell_type": "code",
      "metadata": {
        "execution": {
          "iopub.execute_input": "2021-08-23T01:22:14.802450Z",
          "iopub.status.busy": "2021-08-23T01:22:14.802150Z",
          "iopub.status.idle": "2021-08-23T01:22:14.806661Z",
          "shell.execute_reply": "2021-08-23T01:22:14.806000Z",
          "shell.execute_reply.started": "2021-08-23T01:22:14.802428Z"
        },
        "id": "7d1b4f5d"
      },
      "source": [
        "def missings(df):\n",
        "  data = df.drop(['WELL_ID'],axis=1)\n",
        "  data_count = data.count()\n",
        "  fig, ax = plt.subplots(1, 1, figsize=(15, 7))\n",
        "  ax = sns.barplot(x= data_count.index, y = data_count, palette='crest')\n",
        "  ax.set_xticklabels(data_count.index, rotation=70) \n",
        "  ax.set_yticks([])"
      ],
      "id": "7d1b4f5d",
      "execution_count": 42,
      "outputs": []
    },
    {
      "cell_type": "code",
      "metadata": {
        "execution": {
          "iopub.execute_input": "2021-08-23T01:22:15.970406Z",
          "iopub.status.busy": "2021-08-23T01:22:15.969644Z",
          "iopub.status.idle": "2021-08-23T01:22:16.801479Z",
          "shell.execute_reply": "2021-08-23T01:22:16.800930Z",
          "shell.execute_reply.started": "2021-08-23T01:22:15.970360Z"
        },
        "colab": {
          "base_uri": "https://localhost:8080/",
          "height": 482
        },
        "id": "f2d0dd3c",
        "outputId": "7eebae0f-15c3-4d97-da52-42f5a305d708"
      },
      "source": [
        "missings(train)"
      ],
      "id": "f2d0dd3c",
      "execution_count": 43,
      "outputs": [
        {
          "output_type": "display_data",
          "data": {
            "image/png": "[encoded data removed]",
            "text/plain": [
              "<Figure size 1080x504 with 1 Axes>"
            ]
          },
          "metadata": {
            "needs_background": "light"
          }
        }
      ]
    },
    {
      "cell_type": "code",
      "metadata": {
        "execution": {
          "iopub.execute_input": "2021-08-23T01:22:22.408806Z",
          "iopub.status.busy": "2021-08-23T01:22:22.408507Z",
          "iopub.status.idle": "2021-08-23T01:22:22.592134Z",
          "shell.execute_reply": "2021-08-23T01:22:22.591497Z",
          "shell.execute_reply.started": "2021-08-23T01:22:22.408781Z"
        },
        "colab": {
          "base_uri": "https://localhost:8080/",
          "height": 482
        },
        "id": "427f996e",
        "outputId": "2ea2ba4e-8378-4083-faf2-5be0796c6d60"
      },
      "source": [
        "missings(test)"
      ],
      "id": "427f996e",
      "execution_count": 44,
      "outputs": [
        {
          "output_type": "display_data",
          "data": {
            "image/png": "[encoded data removed]",
            "text/plain": [
              "<Figure size 1080x504 with 1 Axes>"
            ]
          },
          "metadata": {
            "needs_background": "light"
          }
        }
      ]
    },
    {
      "cell_type": "code",
      "metadata": {
        "execution": {
          "iopub.execute_input": "2021-08-23T04:24:32.317453Z",
          "iopub.status.busy": "2021-08-23T04:24:32.317147Z",
          "iopub.status.idle": "2021-08-23T04:24:32.321453Z",
          "shell.execute_reply": "2021-08-23T04:24:32.320889Z",
          "shell.execute_reply.started": "2021-08-23T04:24:32.317427Z"
        },
        "id": "7f826a53"
      },
      "source": [
        "def input_nans(df):    \n",
        "    df = df.drop(['OUT_VOLT','PRESS_INTK','TEMP_INTK'],axis=1)\n",
        "    for i in df.keys().drop('WellFailure'):\n",
        "        df[[i]] = df[[i]].fillna(method='ffill')\n",
        "        df[[i]] = df[[i]].fillna(method='bfill')\n",
        "    return df"
      ],
      "id": "7f826a53",
      "execution_count": 45,
      "outputs": []
    },
    {
      "cell_type": "code",
      "metadata": {
        "execution": {
          "iopub.execute_input": "2021-08-23T04:40:39.933507Z",
          "iopub.status.busy": "2021-08-23T04:40:39.933196Z",
          "iopub.status.idle": "2021-08-23T04:40:43.216395Z",
          "shell.execute_reply": "2021-08-23T04:40:43.215767Z",
          "shell.execute_reply.started": "2021-08-23T04:40:39.933483Z"
        },
        "id": "bc81cca4"
      },
      "source": [
        "train = input_nans(train)\n",
        "test = input_nans(test)"
      ],
      "id": "bc81cca4",
      "execution_count": 46,
      "outputs": []
    },
    {
      "cell_type": "code",
      "metadata": {
        "execution": {
          "iopub.execute_input": "2021-08-23T04:24:37.455386Z",
          "iopub.status.busy": "2021-08-23T04:24:37.454743Z",
          "iopub.status.idle": "2021-08-23T04:24:38.080362Z",
          "shell.execute_reply": "2021-08-23T04:24:38.079733Z",
          "shell.execute_reply.started": "2021-08-23T04:24:37.455357Z"
        },
        "colab": {
          "base_uri": "https://localhost:8080/"
        },
        "id": "37a84aaa",
        "outputId": "0f704cfe-0dde-4423-a60a-670698a3d654"
      },
      "source": [
        "train.isna().sum()"
      ],
      "id": "37a84aaa",
      "execution_count": 47,
      "outputs": [
        {
          "output_type": "execute_result",
          "data": {
            "text/plain": [
              "WELL_ID              0\n",
              "DATE                 0\n",
              "CURRENT              0\n",
              "PRESS_DESC           0\n",
              "FREQUENCY            0\n",
              "PRESS_INT            0\n",
              "TEMP_INT             0\n",
              "TEMP_MOT             0\n",
              "VIBRATION            0\n",
              "WellFailure    8435054\n",
              "dtype: int64"
            ]
          },
          "metadata": {},
          "execution_count": 47
        }
      ]
    },
    {
      "cell_type": "code",
      "metadata": {
        "execution": {
          "iopub.execute_input": "2021-08-23T04:24:38.262251Z",
          "iopub.status.busy": "2021-08-23T04:24:38.262003Z",
          "iopub.status.idle": "2021-08-23T04:24:38.331956Z",
          "shell.execute_reply": "2021-08-23T04:24:38.331489Z",
          "shell.execute_reply.started": "2021-08-23T04:24:38.262228Z"
        },
        "colab": {
          "base_uri": "https://localhost:8080/"
        },
        "id": "ff407276",
        "outputId": "8dbdb62f-5cba-41eb-a8d6-d81f9171561b"
      },
      "source": [
        "test.isna().sum()"
      ],
      "id": "ff407276",
      "execution_count": 48,
      "outputs": [
        {
          "output_type": "execute_result",
          "data": {
            "text/plain": [
              "WELL_ID              0\n",
              "DATE                 0\n",
              "CURRENT              0\n",
              "PRESS_DESC           0\n",
              "FREQUENCY            0\n",
              "PRESS_INT            0\n",
              "TEMP_INT             0\n",
              "TEMP_MOT             0\n",
              "VIBRATION            0\n",
              "WellFailure    1143020\n",
              "dtype: int64"
            ]
          },
          "metadata": {},
          "execution_count": 48
        }
      ]
    },
    {
      "cell_type": "markdown",
      "metadata": {
        "id": "db3e6b0a"
      },
      "source": [
        "# Predict"
      ],
      "id": "db3e6b0a"
    },
    {
      "cell_type": "code",
      "metadata": {
        "execution": {
          "iopub.execute_input": "2021-08-23T04:41:02.585646Z",
          "iopub.status.busy": "2021-08-23T04:41:02.585341Z",
          "iopub.status.idle": "2021-08-23T04:41:02.812202Z",
          "shell.execute_reply": "2021-08-23T04:41:02.811643Z",
          "shell.execute_reply.started": "2021-08-23T04:41:02.585619Z"
        },
        "id": "e9b488b4"
      },
      "source": [
        "from interpret.glassbox import ExplainableBoostingClassifier"
      ],
      "id": "e9b488b4",
      "execution_count": 49,
      "outputs": []
    },
    {
      "cell_type": "code",
      "metadata": {
        "execution": {
          "iopub.execute_input": "2021-08-23T04:25:12.595887Z",
          "iopub.status.busy": "2021-08-23T04:25:12.595587Z",
          "iopub.status.idle": "2021-08-23T04:25:12.657168Z",
          "shell.execute_reply": "2021-08-23T04:25:12.656525Z",
          "shell.execute_reply.started": "2021-08-23T04:25:12.595859Z"
        },
        "id": "ea78489d"
      },
      "source": [
        "# Our Classifier requires a balanced training dataset. Therefore we procced to oversampling the training data.\n",
        "\n",
        "def shuffle_df(df, random_seed=42):\n",
        "    return df.sample(frac=1, random_state=random_seed, replace=False)\n",
        "\n",
        "def oversample(df, y_col, n=None, random_state=42):\n",
        "    \"\"\"Sample an equal amount from each class, with replacement\"\"\"\n",
        "    gs = [g for _, g in df.groupby(y_col)]\n",
        "    if n is None:\n",
        "        n = max(len(g) for g in gs)\n",
        "\n",
        "    # sample equal number of each group\n",
        "    gs = [g.sample(n, random_state=random_state, replace=True) for g in gs]\n",
        "    # concat, and shuffle\n",
        "    df = pd.concat(gs, 0)\n",
        "    df = shuffle_df(df)\n",
        "    return df"
      ],
      "id": "ea78489d",
      "execution_count": 50,
      "outputs": []
    },
    {
      "cell_type": "code",
      "metadata": {
        "execution": {
          "iopub.execute_input": "2021-08-23T04:40:48.218276Z",
          "iopub.status.busy": "2021-08-23T04:40:48.217975Z",
          "iopub.status.idle": "2021-08-23T04:40:54.010436Z",
          "shell.execute_reply": "2021-08-23T04:40:54.009711Z",
          "shell.execute_reply.started": "2021-08-23T04:40:48.218249Z"
        },
        "id": "ad044a02"
      },
      "source": [
        "train = train.sort_values(by=['DATE','WELL_ID']).set_index('DATE')\n",
        "test = test.sort_values(by=['DATE','WELL_ID']).set_index('DATE')"
      ],
      "id": "ad044a02",
      "execution_count": 51,
      "outputs": []
    },
    {
      "cell_type": "code",
      "metadata": {
        "execution": {
          "iopub.execute_input": "2021-08-23T04:40:54.012231Z",
          "iopub.status.busy": "2021-08-23T04:40:54.012044Z",
          "iopub.status.idle": "2021-08-23T04:40:55.280450Z",
          "shell.execute_reply": "2021-08-23T04:40:55.279827Z",
          "shell.execute_reply.started": "2021-08-23T04:40:54.012210Z"
        },
        "id": "3551ac55"
      },
      "source": [
        "train = oversample(train, \"WellFailure\", n=600000)"
      ],
      "id": "3551ac55",
      "execution_count": 52,
      "outputs": []
    },
    {
      "cell_type": "code",
      "metadata": {
        "execution": {
          "iopub.execute_input": "2021-08-23T04:40:55.282098Z",
          "iopub.status.busy": "2021-08-23T04:40:55.281643Z",
          "iopub.status.idle": "2021-08-23T04:40:55.344745Z",
          "shell.execute_reply": "2021-08-23T04:40:55.344180Z",
          "shell.execute_reply.started": "2021-08-23T04:40:55.282063Z"
        },
        "id": "d77e4a4a"
      },
      "source": [
        "# Split Data\n",
        "X_train = train.drop(['WellFailure'],axis=1)\n",
        "y_train = train['WellFailure']\n",
        "\n",
        "X_test = test.drop(['WellFailure'],axis=1)"
      ],
      "id": "d77e4a4a",
      "execution_count": 53,
      "outputs": []
    },
    {
      "cell_type": "code",
      "metadata": {
        "execution": {
          "iopub.execute_input": "2021-08-23T04:41:04.918291Z",
          "iopub.status.busy": "2021-08-23T04:41:04.917987Z",
          "iopub.status.idle": "2021-08-23T04:55:05.183891Z",
          "shell.execute_reply": "2021-08-23T04:55:05.183330Z",
          "shell.execute_reply.started": "2021-08-23T04:41:04.918264Z"
        },
        "colab": {
          "base_uri": "https://localhost:8080/"
        },
        "id": "a75852e6",
        "outputId": "c2374748-a81a-4c08-f597-7ec7be4a676c"
      },
      "source": [
        "model = ExplainableBoostingClassifier(random_state=42, interactions=0)\n",
        "print(model.fit(X_train, y_train))"
      ],
      "id": "a75852e6",
      "execution_count": 54,
      "outputs": [
        {
          "output_type": "stream",
          "text": [
            "ExplainableBoostingClassifier(binning='quantile', early_stopping_rounds=50,\n",
            "                              early_stopping_tolerance=0.0001,\n",
            "                              feature_names=['WELL_ID', 'CURRENT', 'PRESS_DESC',\n",
            "                                             'FREQUENCY', 'PRESS_INT',\n",
            "                                             'TEMP_INT', 'TEMP_MOT',\n",
            "                                             'VIBRATION'],\n",
            "                              feature_types=['categorical', 'continuous',\n",
            "                                             'continuous', 'continuous',\n",
            "                                             'continuous', 'continuous',\n",
            "                                             'continuous', 'continuous'],\n",
            "                              inner_bags=0, interactions=0, learning_rate=0.01,\n",
            "                              mains='all', max_bins=256,\n",
            "                              max_interaction_bins=32, max_leaves=3,\n",
            "                              max_rounds=5000, min_samples_leaf=2, n_jobs=-2,\n",
            "                              outer_bags=8, random_state=42,\n",
            "                              validation_size=0.15)\n"
          ],
          "name": "stdout"
        }
      ]
    },
    {
      "cell_type": "code",
      "metadata": {
        "execution": {
          "iopub.execute_input": "2021-08-23T04:55:58.718243Z",
          "iopub.status.busy": "2021-08-23T04:55:58.717929Z",
          "iopub.status.idle": "2021-08-23T04:56:00.793782Z",
          "shell.execute_reply": "2021-08-23T04:56:00.793154Z",
          "shell.execute_reply.started": "2021-08-23T04:55:58.718218Z"
        },
        "id": "eb3ec7e0"
      },
      "source": [
        "y_test_pred = pd.Series(model.predict(X_test),index=test.index)"
      ],
      "id": "eb3ec7e0",
      "execution_count": 55,
      "outputs": []
    },
    {
      "cell_type": "code",
      "metadata": {
        "execution": {
          "iopub.execute_input": "2021-08-23T04:56:01.702848Z",
          "iopub.status.busy": "2021-08-23T04:56:01.702498Z",
          "iopub.status.idle": "2021-08-23T04:56:01.757521Z",
          "shell.execute_reply": "2021-08-23T04:56:01.756975Z",
          "shell.execute_reply.started": "2021-08-23T04:56:01.702821Z"
        },
        "colab": {
          "base_uri": "https://localhost:8080/"
        },
        "id": "db6da28d",
        "outputId": "347af525-0313-4322-ec49-385012c956e4"
      },
      "source": [
        "y_test_pred.unique()"
      ],
      "id": "db6da28d",
      "execution_count": 56,
      "outputs": [
        {
          "output_type": "execute_result",
          "data": {
            "text/plain": [
              "array(['yes', 'Manual off'], dtype=object)"
            ]
          },
          "metadata": {},
          "execution_count": 56
        }
      ]
    },
    {
      "cell_type": "code",
      "metadata": {
        "execution": {
          "iopub.execute_input": "2021-08-23T04:56:05.441643Z",
          "iopub.status.busy": "2021-08-23T04:56:05.441344Z",
          "iopub.status.idle": "2021-08-23T04:56:05.515053Z",
          "shell.execute_reply": "2021-08-23T04:56:05.514381Z",
          "shell.execute_reply.started": "2021-08-23T04:56:05.441618Z"
        },
        "colab": {
          "base_uri": "https://localhost:8080/",
          "height": 424
        },
        "id": "f636168b",
        "outputId": "1297d0d5-123b-410c-842c-c4e248e277b0"
      },
      "source": [
        "test['WellFailure'] = y_test_pred\n",
        "test = test.reset_index()\n",
        "test"
      ],
      "id": "f636168b",
      "execution_count": 57,
      "outputs": [
        {
          "output_type": "execute_result",
          "data": {
            "text/html": [
              "<div>\n",
              "<style scoped>\n",
              "    .dataframe tbody tr th:only-of-type {\n",
              "        vertical-align: middle;\n",
              "    }\n",
              "\n",
              "    .dataframe tbody tr th {\n",
              "        vertical-align: top;\n",
              "    }\n",
              "\n",
              "    .dataframe thead th {\n",
              "        text-align: right;\n",
              "    }\n",
              "</style>\n",
              "<table border=\"1\" class=\"dataframe\">\n",
              "  <thead>\n",
              "    <tr style=\"text-align: right;\">\n",
              "      <th></th>\n",
              "      <th>DATE</th>\n",
              "      <th>WELL_ID</th>\n",
              "      <th>CURRENT</th>\n",
              "      <th>PRESS_DESC</th>\n",
              "      <th>FREQUENCY</th>\n",
              "      <th>PRESS_INT</th>\n",
              "      <th>TEMP_INT</th>\n",
              "      <th>TEMP_MOT</th>\n",
              "      <th>VIBRATION</th>\n",
              "      <th>WellFailure</th>\n",
              "    </tr>\n",
              "  </thead>\n",
              "  <tbody>\n",
              "    <tr>\n",
              "      <th>0</th>\n",
              "      <td>2019-02-25 00:00:00</td>\n",
              "      <td>DEEPWATER-0RCI25</td>\n",
              "      <td>59.14</td>\n",
              "      <td>4112.53</td>\n",
              "      <td>53.96</td>\n",
              "      <td>0.00</td>\n",
              "      <td>226.20</td>\n",
              "      <td>274.98</td>\n",
              "      <td>0.00</td>\n",
              "      <td>yes</td>\n",
              "    </tr>\n",
              "    <tr>\n",
              "      <th>1</th>\n",
              "      <td>2019-02-25 00:00:00</td>\n",
              "      <td>DEEPWATER-3OKFRE</td>\n",
              "      <td>23.03</td>\n",
              "      <td>3675.48</td>\n",
              "      <td>63.93</td>\n",
              "      <td>253.34</td>\n",
              "      <td>236.45</td>\n",
              "      <td>267.97</td>\n",
              "      <td>0.24</td>\n",
              "      <td>yes</td>\n",
              "    </tr>\n",
              "    <tr>\n",
              "      <th>2</th>\n",
              "      <td>2019-02-25 00:00:00</td>\n",
              "      <td>DEEPWATER-4ISLB0</td>\n",
              "      <td>41.21</td>\n",
              "      <td>4009.70</td>\n",
              "      <td>53.00</td>\n",
              "      <td>529.51</td>\n",
              "      <td>223.68</td>\n",
              "      <td>261.97</td>\n",
              "      <td>0.22</td>\n",
              "      <td>Manual off</td>\n",
              "    </tr>\n",
              "    <tr>\n",
              "      <th>3</th>\n",
              "      <td>2019-02-25 00:00:00</td>\n",
              "      <td>DEEPWATER-4OBKXS</td>\n",
              "      <td>44.64</td>\n",
              "      <td>0.00</td>\n",
              "      <td>49.00</td>\n",
              "      <td>0.00</td>\n",
              "      <td>0.00</td>\n",
              "      <td>0.00</td>\n",
              "      <td>0.00</td>\n",
              "      <td>Manual off</td>\n",
              "    </tr>\n",
              "    <tr>\n",
              "      <th>4</th>\n",
              "      <td>2019-02-25 00:00:00</td>\n",
              "      <td>DEEPWATER-BJE55K</td>\n",
              "      <td>9.37</td>\n",
              "      <td>3717.13</td>\n",
              "      <td>130.00</td>\n",
              "      <td>322.43</td>\n",
              "      <td>231.69</td>\n",
              "      <td>32.00</td>\n",
              "      <td>0.00</td>\n",
              "      <td>yes</td>\n",
              "    </tr>\n",
              "    <tr>\n",
              "      <th>...</th>\n",
              "      <td>...</td>\n",
              "      <td>...</td>\n",
              "      <td>...</td>\n",
              "      <td>...</td>\n",
              "      <td>...</td>\n",
              "      <td>...</td>\n",
              "      <td>...</td>\n",
              "      <td>...</td>\n",
              "      <td>...</td>\n",
              "      <td>...</td>\n",
              "    </tr>\n",
              "    <tr>\n",
              "      <th>1143015</th>\n",
              "      <td>2021-05-25 09:19:49</td>\n",
              "      <td>DEEPWATER-0RCI25</td>\n",
              "      <td>59.00</td>\n",
              "      <td>4255.00</td>\n",
              "      <td>56.00</td>\n",
              "      <td>228.00</td>\n",
              "      <td>229.00</td>\n",
              "      <td>280.00</td>\n",
              "      <td>0.00</td>\n",
              "      <td>yes</td>\n",
              "    </tr>\n",
              "    <tr>\n",
              "      <th>1143016</th>\n",
              "      <td>2021-05-25 09:19:51</td>\n",
              "      <td>DEEPWATER-4ISLB0</td>\n",
              "      <td>58.00</td>\n",
              "      <td>0.00</td>\n",
              "      <td>61.00</td>\n",
              "      <td>0.00</td>\n",
              "      <td>32.00</td>\n",
              "      <td>32.00</td>\n",
              "      <td>0.00</td>\n",
              "      <td>yes</td>\n",
              "    </tr>\n",
              "    <tr>\n",
              "      <th>1143017</th>\n",
              "      <td>2021-05-25 09:19:51</td>\n",
              "      <td>DEEPWATER-UOOXPH</td>\n",
              "      <td>67.00</td>\n",
              "      <td>4236.00</td>\n",
              "      <td>58.00</td>\n",
              "      <td>244.00</td>\n",
              "      <td>228.00</td>\n",
              "      <td>301.00</td>\n",
              "      <td>1.00</td>\n",
              "      <td>yes</td>\n",
              "    </tr>\n",
              "    <tr>\n",
              "      <th>1143018</th>\n",
              "      <td>2021-05-25 09:19:54</td>\n",
              "      <td>DEEPWATER-GBQGBP</td>\n",
              "      <td>26.00</td>\n",
              "      <td>4096.00</td>\n",
              "      <td>60.00</td>\n",
              "      <td>573.00</td>\n",
              "      <td>248.00</td>\n",
              "      <td>295.00</td>\n",
              "      <td>1.00</td>\n",
              "      <td>yes</td>\n",
              "    </tr>\n",
              "    <tr>\n",
              "      <th>1143019</th>\n",
              "      <td>2021-05-25 09:24:34</td>\n",
              "      <td>DEEPWATER-GBQGBP</td>\n",
              "      <td>26.00</td>\n",
              "      <td>4098.00</td>\n",
              "      <td>60.00</td>\n",
              "      <td>574.00</td>\n",
              "      <td>248.00</td>\n",
              "      <td>295.00</td>\n",
              "      <td>1.00</td>\n",
              "      <td>yes</td>\n",
              "    </tr>\n",
              "  </tbody>\n",
              "</table>\n",
              "<p>1143020 rows × 10 columns</p>\n",
              "</div>"
            ],
            "text/plain": [
              "                       DATE           WELL_ID  ...  VIBRATION  WellFailure\n",
              "0       2019-02-25 00:00:00  DEEPWATER-0RCI25  ...       0.00          yes\n",
              "1       2019-02-25 00:00:00  DEEPWATER-3OKFRE  ...       0.24          yes\n",
              "2       2019-02-25 00:00:00  DEEPWATER-4ISLB0  ...       0.22   Manual off\n",
              "3       2019-02-25 00:00:00  DEEPWATER-4OBKXS  ...       0.00   Manual off\n",
              "4       2019-02-25 00:00:00  DEEPWATER-BJE55K  ...       0.00          yes\n",
              "...                     ...               ...  ...        ...          ...\n",
              "1143015 2021-05-25 09:19:49  DEEPWATER-0RCI25  ...       0.00          yes\n",
              "1143016 2021-05-25 09:19:51  DEEPWATER-4ISLB0  ...       0.00          yes\n",
              "1143017 2021-05-25 09:19:51  DEEPWATER-UOOXPH  ...       1.00          yes\n",
              "1143018 2021-05-25 09:19:54  DEEPWATER-GBQGBP  ...       1.00          yes\n",
              "1143019 2021-05-25 09:24:34  DEEPWATER-GBQGBP  ...       1.00          yes\n",
              "\n",
              "[1143020 rows x 10 columns]"
            ]
          },
          "metadata": {},
          "execution_count": 57
        }
      ]
    },
    {
      "cell_type": "code",
      "metadata": {
        "execution": {
          "iopub.execute_input": "2021-08-23T06:15:55.790573Z",
          "iopub.status.busy": "2021-08-23T06:15:55.790186Z",
          "iopub.status.idle": "2021-08-23T06:15:56.901947Z",
          "shell.execute_reply": "2021-08-23T06:15:56.901129Z",
          "shell.execute_reply.started": "2021-08-23T06:15:55.790536Z"
        },
        "colab": {
          "base_uri": "https://localhost:8080/",
          "height": 520
        },
        "id": "6030561b",
        "outputId": "4f628bec-47d7-4849-8b74-9c621f592bae"
      },
      "source": [
        "result = []\n",
        "for i in test_wells:\n",
        "    df = test[test['WELL_ID']==i][['WELL_ID','DATE','WellFailure']].reset_index().drop('index',axis=1)\n",
        "    result.append(df.sample(1))\n",
        "\n",
        "result = np.vstack(result)\n",
        "result = pd.DataFrame(result,columns=['WELL_ID','DATE','WellFailure'])\n",
        "result"
      ],
      "id": "6030561b",
      "execution_count": 58,
      "outputs": [
        {
          "output_type": "execute_result",
          "data": {
            "text/html": [
              "<div>\n",
              "<style scoped>\n",
              "    .dataframe tbody tr th:only-of-type {\n",
              "        vertical-align: middle;\n",
              "    }\n",
              "\n",
              "    .dataframe tbody tr th {\n",
              "        vertical-align: top;\n",
              "    }\n",
              "\n",
              "    .dataframe thead th {\n",
              "        text-align: right;\n",
              "    }\n",
              "</style>\n",
              "<table border=\"1\" class=\"dataframe\">\n",
              "  <thead>\n",
              "    <tr style=\"text-align: right;\">\n",
              "      <th></th>\n",
              "      <th>WELL_ID</th>\n",
              "      <th>DATE</th>\n",
              "      <th>WellFailure</th>\n",
              "    </tr>\n",
              "  </thead>\n",
              "  <tbody>\n",
              "    <tr>\n",
              "      <th>0</th>\n",
              "      <td>DEEPWATER-0RCI25</td>\n",
              "      <td>2020-10-02 01:59:01</td>\n",
              "      <td>yes</td>\n",
              "    </tr>\n",
              "    <tr>\n",
              "      <th>1</th>\n",
              "      <td>DEEPWATER-GBQGBP</td>\n",
              "      <td>2020-08-26 00:39:02</td>\n",
              "      <td>yes</td>\n",
              "    </tr>\n",
              "    <tr>\n",
              "      <th>2</th>\n",
              "      <td>DEEPWATER-WJW1K1</td>\n",
              "      <td>2020-07-10 12:19:48</td>\n",
              "      <td>yes</td>\n",
              "    </tr>\n",
              "    <tr>\n",
              "      <th>3</th>\n",
              "      <td>DEEPWATER-4OBKXS</td>\n",
              "      <td>2021-04-11 23:59:11</td>\n",
              "      <td>yes</td>\n",
              "    </tr>\n",
              "    <tr>\n",
              "      <th>4</th>\n",
              "      <td>DEEPWATER-RAPG5L</td>\n",
              "      <td>2020-09-26 06:50:36</td>\n",
              "      <td>Manual off</td>\n",
              "    </tr>\n",
              "    <tr>\n",
              "      <th>5</th>\n",
              "      <td>DEEPWATER-BJE55K</td>\n",
              "      <td>2020-11-06 00:31:23</td>\n",
              "      <td>Manual off</td>\n",
              "    </tr>\n",
              "    <tr>\n",
              "      <th>6</th>\n",
              "      <td>DEEPWATER-3OKFRE</td>\n",
              "      <td>2020-03-01 00:20:00</td>\n",
              "      <td>Manual off</td>\n",
              "    </tr>\n",
              "    <tr>\n",
              "      <th>7</th>\n",
              "      <td>DEEPWATER-S5VD4I</td>\n",
              "      <td>2020-09-23 14:52:01</td>\n",
              "      <td>yes</td>\n",
              "    </tr>\n",
              "    <tr>\n",
              "      <th>8</th>\n",
              "      <td>DEEPWATER-HFLRME</td>\n",
              "      <td>2020-02-17 21:00:00</td>\n",
              "      <td>yes</td>\n",
              "    </tr>\n",
              "    <tr>\n",
              "      <th>9</th>\n",
              "      <td>DEEPWATER-K0RPBL</td>\n",
              "      <td>2020-01-07 04:00:00</td>\n",
              "      <td>Manual off</td>\n",
              "    </tr>\n",
              "    <tr>\n",
              "      <th>10</th>\n",
              "      <td>DEEPWATER-F022ZE</td>\n",
              "      <td>2020-01-06 18:49:00</td>\n",
              "      <td>yes</td>\n",
              "    </tr>\n",
              "    <tr>\n",
              "      <th>11</th>\n",
              "      <td>DEEPWATER-YDSE0D</td>\n",
              "      <td>2019-06-10 00:00:00</td>\n",
              "      <td>yes</td>\n",
              "    </tr>\n",
              "    <tr>\n",
              "      <th>12</th>\n",
              "      <td>DEEPWATER-CY3WQW</td>\n",
              "      <td>2020-09-22 07:21:54</td>\n",
              "      <td>yes</td>\n",
              "    </tr>\n",
              "    <tr>\n",
              "      <th>13</th>\n",
              "      <td>DEEPWATER-4ISLB0</td>\n",
              "      <td>2020-09-24 20:01:03</td>\n",
              "      <td>yes</td>\n",
              "    </tr>\n",
              "    <tr>\n",
              "      <th>14</th>\n",
              "      <td>DEEPWATER-UOOXPH</td>\n",
              "      <td>2020-07-02 03:24:47</td>\n",
              "      <td>Manual off</td>\n",
              "    </tr>\n",
              "  </tbody>\n",
              "</table>\n",
              "</div>"
            ],
            "text/plain": [
              "             WELL_ID                DATE WellFailure\n",
              "0   DEEPWATER-0RCI25 2020-10-02 01:59:01         yes\n",
              "1   DEEPWATER-GBQGBP 2020-08-26 00:39:02         yes\n",
              "2   DEEPWATER-WJW1K1 2020-07-10 12:19:48         yes\n",
              "3   DEEPWATER-4OBKXS 2021-04-11 23:59:11         yes\n",
              "4   DEEPWATER-RAPG5L 2020-09-26 06:50:36  Manual off\n",
              "5   DEEPWATER-BJE55K 2020-11-06 00:31:23  Manual off\n",
              "6   DEEPWATER-3OKFRE 2020-03-01 00:20:00  Manual off\n",
              "7   DEEPWATER-S5VD4I 2020-09-23 14:52:01         yes\n",
              "8   DEEPWATER-HFLRME 2020-02-17 21:00:00         yes\n",
              "9   DEEPWATER-K0RPBL 2020-01-07 04:00:00  Manual off\n",
              "10  DEEPWATER-F022ZE 2020-01-06 18:49:00         yes\n",
              "11  DEEPWATER-YDSE0D 2019-06-10 00:00:00         yes\n",
              "12  DEEPWATER-CY3WQW 2020-09-22 07:21:54         yes\n",
              "13  DEEPWATER-4ISLB0 2020-09-24 20:01:03         yes\n",
              "14  DEEPWATER-UOOXPH 2020-07-02 03:24:47  Manual off"
            ]
          },
          "metadata": {},
          "execution_count": 58
        }
      ]
    },
    {
      "cell_type": "code",
      "metadata": {
        "execution": {
          "iopub.execute_input": "2021-08-23T05:29:07.260538Z",
          "iopub.status.busy": "2021-08-23T05:29:07.260248Z",
          "iopub.status.idle": "2021-08-23T05:29:07.265536Z",
          "shell.execute_reply": "2021-08-23T05:29:07.264966Z",
          "shell.execute_reply.started": "2021-08-23T05:29:07.260512Z"
        },
        "id": "8110c1fd"
      },
      "source": [
        "# Write the prediction to a zip file\n",
        "result.to_csv('predictions.csv',index=False)\n",
        "zipfile.ZipFile('predictions.zip', mode='w').write(\"predictions.csv\")"
      ],
      "id": "8110c1fd",
      "execution_count": 59,
      "outputs": []
    },
    {
      "cell_type": "code",
      "metadata": {
        "id": "41e82d8b"
      },
      "source": [
        ""
      ],
      "id": "41e82d8b",
      "execution_count": null,
      "outputs": []
    }
  ]
}